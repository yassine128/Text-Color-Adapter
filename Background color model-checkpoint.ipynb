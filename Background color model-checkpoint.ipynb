{
 "cells": [
  {
   "cell_type": "code",
   "execution_count": 91,
   "metadata": {},
   "outputs": [],
   "source": [
    "# Create Custom dataset\n",
    "\n",
    "import pandas as pd\n",
    "import warnings\n",
    "warnings.filterwarnings('ignore')\n",
    "\n",
    "def dataCreation(): \n",
    "    \"\"\"\n",
    "    Save in a .csv file: \n",
    "    Background Color | Text Color\n",
    "        RGB          |  RGB\n",
    "    \"\"\"\n",
    "\n",
    "    MAX_VAL = 255\n",
    "    current_Bgd_val = 0\n",
    "    current_Txt_val = 255\n",
    "\n",
    "    data = {'Bgd_Col': [],\n",
    "            'Txt_Col': []}\n",
    "\n",
    "    df = pd.DataFrame(data)\n",
    "\n",
    "    for i in range(MAX_VAL):\n",
    "        df2 = {'Bgd_Col': current_Bgd_val, 'Txt_Col': current_Txt_val}\n",
    "        df = df.append(df2, ignore_index = True)\n",
    "        current_Bgd_val += 1\n",
    "        current_Txt_val -= 1\n",
    "\n",
    "    return df\n"
   ]
  },
  {
   "cell_type": "code",
   "execution_count": 92,
   "id": "0c5a2a08",
   "metadata": {},
   "outputs": [],
   "source": [
    "df = dataCreation()\n",
    "df.to_csv('data.csv') # Save DataFrame as a csv file"
   ]
  },
  {
   "cell_type": "code",
   "execution_count": 93,
   "id": "80dd0ac9",
   "metadata": {},
   "outputs": [],
   "source": [
    "dfX = df['Bgd_Col'].to_numpy()\n",
    "dfY = df['Txt_Col'].to_numpy()"
   ]
  },
  {
   "cell_type": "code",
   "execution_count": 98,
   "id": "4272e1e3",
   "metadata": {},
   "outputs": [],
   "source": [
    "\n",
    "import numpy as np\n",
    "import tensorflow as tf\n",
    "import matplotlib.pyplot as plt\n",
    "import seaborn as sns\n",
    "\n",
    "# Adding Noise to the data\n",
    "noiseX = np.random.normal(0, 10, dfX.shape)\n",
    "noiseY = np.random.normal(0, 10, dfY.shape)\n",
    "dfX = dfX + noiseX\n",
    "dfY = dfY + noiseY\n",
    "\n",
    "dfY = dfY/max(dfY)\n",
    "dfX = dfX/max(dfX)\n"
   ]
  },
  {
   "cell_type": "code",
   "execution_count": 99,
   "id": "cf284e0a",
   "metadata": {},
   "outputs": [
    {
     "data": {
      "image/png": "[encoded data removed]",
      "text/plain": [
       "<Figure size 432x288 with 1 Axes>"
      ]
     },
     "metadata": {
      "needs_background": "light"
     },
     "output_type": "display_data"
    }
   ],
   "source": [
    "# Plot of Training Data\n",
    "plt.scatter(dfX, dfY)\n",
    "plt.xlabel('Bgd_Col')\n",
    "plt.ylabel('Txt_Col')\n",
    "plt.title(\"Training Data\")\n",
    "plt.show()"
   ]
  },
  {
   "cell_type": "code",
   "execution_count": 190,
   "id": "438a11eb",
   "metadata": {},
   "outputs": [
    {
     "name": "stdout",
     "output_type": "stream",
     "text": [
      "Epoch 1/300\n",
      "8/8 [==============================] - 0s 2ms/step - loss: 0.2820\n",
      "Epoch 2/300\n",
      "8/8 [==============================] - 0s 2ms/step - loss: 0.2210\n",
      "Epoch 3/300\n",
      "8/8 [==============================] - 0s 2ms/step - loss: 0.1797\n",
      "Epoch 4/300\n",
      "8/8 [==============================] - 0s 2ms/step - loss: 0.1531\n",
      "Epoch 5/300\n",
      "8/8 [==============================] - 0s 2ms/step - loss: 0.1349\n",
      "Epoch 6/300\n",
      "8/8 [==============================] - 0s 2ms/step - loss: 0.1218\n",
      "Epoch 7/300\n",
      "8/8 [==============================] - 0s 3ms/step - loss: 0.1107\n",
      "Epoch 8/300\n",
      "8/8 [==============================] - 0s 2ms/step - loss: 0.1006\n",
      "Epoch 9/300\n",
      "8/8 [==============================] - 0s 2ms/step - loss: 0.0906\n",
      "Epoch 10/300\n",
      "8/8 [==============================] - 0s 2ms/step - loss: 0.0822\n",
      "Epoch 11/300\n",
      "8/8 [==============================] - 0s 2ms/step - loss: 0.0739\n",
      "Epoch 12/300\n",
      "8/8 [==============================] - 0s 2ms/step - loss: 0.0661\n",
      "Epoch 13/300\n",
      "8/8 [==============================] - 0s 2ms/step - loss: 0.0595\n",
      "Epoch 14/300\n",
      "8/8 [==============================] - 0s 2ms/step - loss: 0.0531\n",
      "Epoch 15/300\n",
      "8/8 [==============================] - 0s 2ms/step - loss: 0.0472\n",
      "Epoch 16/300\n",
      "8/8 [==============================] - 0s 2ms/step - loss: 0.0420\n",
      "Epoch 17/300\n",
      "8/8 [==============================] - 0s 2ms/step - loss: 0.0374\n",
      "Epoch 18/300\n",
      "8/8 [==============================] - 0s 2ms/step - loss: 0.0333\n",
      "Epoch 19/300\n",
      "8/8 [==============================] - 0s 2ms/step - loss: 0.0294\n",
      "Epoch 20/300\n",
      "8/8 [==============================] - 0s 2ms/step - loss: 0.0260\n",
      "Epoch 21/300\n",
      "8/8 [==============================] - 0s 2ms/step - loss: 0.0231\n",
      "Epoch 22/300\n",
      "8/8 [==============================] - 0s 2ms/step - loss: 0.0204\n",
      "Epoch 23/300\n",
      "8/8 [==============================] - 0s 2ms/step - loss: 0.0181\n",
      "Epoch 24/300\n",
      "8/8 [==============================] - 0s 2ms/step - loss: 0.0160\n",
      "Epoch 25/300\n",
      "8/8 [==============================] - 0s 2ms/step - loss: 0.0143\n",
      "Epoch 26/300\n",
      "8/8 [==============================] - 0s 2ms/step - loss: 0.0127\n",
      "Epoch 27/300\n",
      "8/8 [==============================] - 0s 2ms/step - loss: 0.0113\n",
      "Epoch 28/300\n",
      "8/8 [==============================] - 0s 2ms/step - loss: 0.0101\n",
      "Epoch 29/300\n",
      "8/8 [==============================] - 0s 2ms/step - loss: 0.0091\n",
      "Epoch 30/300\n",
      "8/8 [==============================] - 0s 2ms/step - loss: 0.0082\n",
      "Epoch 31/300\n",
      "8/8 [==============================] - 0s 2ms/step - loss: 0.0074\n",
      "Epoch 32/300\n",
      "8/8 [==============================] - 0s 2ms/step - loss: 0.0067\n",
      "Epoch 33/300\n",
      "8/8 [==============================] - 0s 2ms/step - loss: 0.0062\n",
      "Epoch 34/300\n",
      "8/8 [==============================] - 0s 2ms/step - loss: 0.0057\n",
      "Epoch 35/300\n",
      "8/8 [==============================] - 0s 2ms/step - loss: 0.0053\n",
      "Epoch 36/300\n",
      "8/8 [==============================] - 0s 2ms/step - loss: 0.0049\n",
      "Epoch 37/300\n",
      "8/8 [==============================] - 0s 2ms/step - loss: 0.0046\n",
      "Epoch 38/300\n",
      "8/8 [==============================] - 0s 2ms/step - loss: 0.0044\n",
      "Epoch 39/300\n",
      "8/8 [==============================] - 0s 2ms/step - loss: 0.0042\n",
      "Epoch 40/300\n",
      "8/8 [==============================] - 0s 2ms/step - loss: 0.0040\n",
      "Epoch 41/300\n",
      "8/8 [==============================] - 0s 2ms/step - loss: 0.0039\n",
      "Epoch 42/300\n",
      "8/8 [==============================] - 0s 2ms/step - loss: 0.0037\n",
      "Epoch 43/300\n",
      "8/8 [==============================] - 0s 2ms/step - loss: 0.0036\n",
      "Epoch 44/300\n",
      "8/8 [==============================] - 0s 2ms/step - loss: 0.0035\n",
      "Epoch 45/300\n",
      "8/8 [==============================] - 0s 2ms/step - loss: 0.0035\n",
      "Epoch 46/300\n",
      "8/8 [==============================] - 0s 2ms/step - loss: 0.0034\n",
      "Epoch 47/300\n",
      "8/8 [==============================] - 0s 2ms/step - loss: 0.0034\n",
      "Epoch 48/300\n",
      "8/8 [==============================] - 0s 2ms/step - loss: 0.0033\n",
      "Epoch 49/300\n",
      "8/8 [==============================] - 0s 2ms/step - loss: 0.0033\n",
      "Epoch 50/300\n",
      "8/8 [==============================] - 0s 2ms/step - loss: 0.0033\n",
      "Epoch 51/300\n",
      "8/8 [==============================] - 0s 2ms/step - loss: 0.0033\n",
      "Epoch 52/300\n",
      "8/8 [==============================] - 0s 2ms/step - loss: 0.0032\n",
      "Epoch 53/300\n",
      "8/8 [==============================] - 0s 2ms/step - loss: 0.0032\n",
      "Epoch 54/300\n",
      "8/8 [==============================] - 0s 3ms/step - loss: 0.0032\n",
      "Epoch 55/300\n",
      "8/8 [==============================] - 0s 2ms/step - loss: 0.0032\n",
      "Epoch 56/300\n",
      "8/8 [==============================] - 0s 2ms/step - loss: 0.0032\n",
      "Epoch 57/300\n",
      "8/8 [==============================] - 0s 2ms/step - loss: 0.0032\n",
      "Epoch 58/300\n",
      "8/8 [==============================] - 0s 3ms/step - loss: 0.0032\n",
      "Epoch 59/300\n",
      "8/8 [==============================] - 0s 2ms/step - loss: 0.0032\n",
      "Epoch 60/300\n",
      "8/8 [==============================] - 0s 2ms/step - loss: 0.0032\n",
      "Epoch 61/300\n",
      "8/8 [==============================] - 0s 2ms/step - loss: 0.0032\n",
      "Epoch 62/300\n",
      "8/8 [==============================] - 0s 2ms/step - loss: 0.0032\n",
      "Epoch 63/300\n",
      "8/8 [==============================] - 0s 2ms/step - loss: 0.0032\n",
      "Epoch 64/300\n",
      "8/8 [==============================] - 0s 2ms/step - loss: 0.0032\n",
      "Epoch 65/300\n",
      "8/8 [==============================] - 0s 2ms/step - loss: 0.0032\n",
      "Epoch 66/300\n",
      "8/8 [==============================] - 0s 2ms/step - loss: 0.0032\n",
      "Epoch 67/300\n",
      "8/8 [==============================] - 0s 2ms/step - loss: 0.0032\n",
      "Epoch 68/300\n",
      "8/8 [==============================] - 0s 2ms/step - loss: 0.0032\n",
      "Epoch 69/300\n",
      "8/8 [==============================] - 0s 2ms/step - loss: 0.0032\n",
      "Epoch 70/300\n",
      "8/8 [==============================] - 0s 2ms/step - loss: 0.0032\n",
      "Epoch 71/300\n",
      "8/8 [==============================] - 0s 2ms/step - loss: 0.0032\n",
      "Epoch 72/300\n",
      "8/8 [==============================] - 0s 2ms/step - loss: 0.0032\n",
      "Epoch 73/300\n",
      "8/8 [==============================] - 0s 2ms/step - loss: 0.0032\n",
      "Epoch 74/300\n",
      "8/8 [==============================] - 0s 2ms/step - loss: 0.0032\n",
      "Epoch 75/300\n",
      "8/8 [==============================] - 0s 2ms/step - loss: 0.0032\n",
      "Epoch 76/300\n",
      "8/8 [==============================] - 0s 2ms/step - loss: 0.0032\n",
      "Epoch 77/300\n",
      "8/8 [==============================] - 0s 2ms/step - loss: 0.0032\n",
      "Epoch 78/300\n",
      "8/8 [==============================] - 0s 2ms/step - loss: 0.0032\n",
      "Epoch 79/300\n",
      "8/8 [==============================] - 0s 2ms/step - loss: 0.0032\n",
      "Epoch 80/300\n",
      "8/8 [==============================] - 0s 2ms/step - loss: 0.0032\n",
      "Epoch 81/300\n",
      "8/8 [==============================] - 0s 3ms/step - loss: 0.0032\n",
      "Epoch 82/300\n",
      "8/8 [==============================] - 0s 2ms/step - loss: 0.0032\n",
      "Epoch 83/300\n",
      "8/8 [==============================] - 0s 2ms/step - loss: 0.0032\n",
      "Epoch 84/300\n",
      "8/8 [==============================] - 0s 2ms/step - loss: 0.0032\n",
      "Epoch 85/300\n",
      "8/8 [==============================] - 0s 3ms/step - loss: 0.0032\n",
      "Epoch 86/300\n",
      "8/8 [==============================] - 0s 4ms/step - loss: 0.0032\n",
      "Epoch 87/300\n",
      "8/8 [==============================] - 0s 3ms/step - loss: 0.0032\n",
      "Epoch 88/300\n",
      "8/8 [==============================] - 0s 3ms/step - loss: 0.0032\n",
      "Epoch 89/300\n",
      "8/8 [==============================] - 0s 2ms/step - loss: 0.0032\n",
      "Epoch 90/300\n",
      "8/8 [==============================] - 0s 2ms/step - loss: 0.0032\n",
      "Epoch 91/300\n",
      "8/8 [==============================] - 0s 2ms/step - loss: 0.0032\n",
      "Epoch 92/300\n",
      "8/8 [==============================] - 0s 2ms/step - loss: 0.0032\n",
      "Epoch 93/300\n",
      "8/8 [==============================] - 0s 2ms/step - loss: 0.0032\n",
      "Epoch 94/300\n",
      "8/8 [==============================] - 0s 2ms/step - loss: 0.0032\n",
      "Epoch 95/300\n",
      "8/8 [==============================] - 0s 2ms/step - loss: 0.0032\n",
      "Epoch 96/300\n",
      "8/8 [==============================] - 0s 2ms/step - loss: 0.0032\n",
      "Epoch 97/300\n",
      "8/8 [==============================] - 0s 2ms/step - loss: 0.0032\n",
      "Epoch 98/300\n",
      "8/8 [==============================] - 0s 2ms/step - loss: 0.0032\n",
      "Epoch 99/300\n",
      "8/8 [==============================] - 0s 2ms/step - loss: 0.0032\n",
      "Epoch 100/300\n",
      "8/8 [==============================] - 0s 2ms/step - loss: 0.0032\n",
      "Epoch 101/300\n",
      "8/8 [==============================] - 0s 3ms/step - loss: 0.0032\n",
      "Epoch 102/300\n",
      "8/8 [==============================] - 0s 2ms/step - loss: 0.0032\n",
      "Epoch 103/300\n",
      "8/8 [==============================] - 0s 2ms/step - loss: 0.0032\n",
      "Epoch 104/300\n",
      "8/8 [==============================] - 0s 2ms/step - loss: 0.0032\n",
      "Epoch 105/300\n",
      "8/8 [==============================] - 0s 2ms/step - loss: 0.0032\n",
      "Epoch 106/300\n",
      "8/8 [==============================] - 0s 2ms/step - loss: 0.0032\n",
      "Epoch 107/300\n",
      "8/8 [==============================] - 0s 2ms/step - loss: 0.0032\n",
      "Epoch 108/300\n",
      "8/8 [==============================] - 0s 2ms/step - loss: 0.0032\n",
      "Epoch 109/300\n",
      "8/8 [==============================] - 0s 2ms/step - loss: 0.0032\n",
      "Epoch 110/300\n",
      "8/8 [==============================] - 0s 2ms/step - loss: 0.0032\n",
      "Epoch 111/300\n",
      "8/8 [==============================] - 0s 2ms/step - loss: 0.0032\n",
      "Epoch 112/300\n",
      "8/8 [==============================] - 0s 2ms/step - loss: 0.0032\n",
      "Epoch 113/300\n",
      "8/8 [==============================] - 0s 2ms/step - loss: 0.0032\n",
      "Epoch 114/300\n",
      "8/8 [==============================] - 0s 2ms/step - loss: 0.0032\n",
      "Epoch 115/300\n",
      "8/8 [==============================] - 0s 2ms/step - loss: 0.0032\n",
      "Epoch 116/300\n",
      "8/8 [==============================] - 0s 2ms/step - loss: 0.0032\n",
      "Epoch 117/300\n",
      "8/8 [==============================] - 0s 2ms/step - loss: 0.0032\n",
      "Epoch 118/300\n",
      "8/8 [==============================] - 0s 3ms/step - loss: 0.0032\n",
      "Epoch 119/300\n",
      "8/8 [==============================] - 0s 2ms/step - loss: 0.0032\n",
      "Epoch 120/300\n",
      "8/8 [==============================] - 0s 2ms/step - loss: 0.0032\n",
      "Epoch 121/300\n",
      "8/8 [==============================] - 0s 2ms/step - loss: 0.0032\n",
      "Epoch 122/300\n",
      "8/8 [==============================] - 0s 2ms/step - loss: 0.0032\n",
      "Epoch 123/300\n",
      "8/8 [==============================] - 0s 2ms/step - loss: 0.0032\n",
      "Epoch 124/300\n",
      "8/8 [==============================] - 0s 2ms/step - loss: 0.0032\n",
      "Epoch 125/300\n",
      "8/8 [==============================] - 0s 2ms/step - loss: 0.0032\n",
      "Epoch 126/300\n",
      "8/8 [==============================] - 0s 2ms/step - loss: 0.0032\n",
      "Epoch 127/300\n",
      "8/8 [==============================] - 0s 2ms/step - loss: 0.0032\n",
      "Epoch 128/300\n",
      "8/8 [==============================] - 0s 2ms/step - loss: 0.0032\n",
      "Epoch 129/300\n",
      "8/8 [==============================] - 0s 2ms/step - loss: 0.0032\n",
      "Epoch 130/300\n",
      "8/8 [==============================] - 0s 2ms/step - loss: 0.0032\n",
      "Epoch 131/300\n",
      "8/8 [==============================] - 0s 2ms/step - loss: 0.0032\n",
      "Epoch 132/300\n",
      "8/8 [==============================] - 0s 2ms/step - loss: 0.0032\n",
      "Epoch 133/300\n",
      "8/8 [==============================] - 0s 2ms/step - loss: 0.0032\n",
      "Epoch 134/300\n",
      "8/8 [==============================] - 0s 3ms/step - loss: 0.0032\n",
      "Epoch 135/300\n",
      "8/8 [==============================] - 0s 2ms/step - loss: 0.0032\n",
      "Epoch 136/300\n",
      "8/8 [==============================] - 0s 2ms/step - loss: 0.0032\n",
      "Epoch 137/300\n",
      "8/8 [==============================] - 0s 2ms/step - loss: 0.0032\n",
      "Epoch 138/300\n",
      "8/8 [==============================] - 0s 2ms/step - loss: 0.0032\n",
      "Epoch 139/300\n",
      "8/8 [==============================] - 0s 2ms/step - loss: 0.0032\n",
      "Epoch 140/300\n",
      "8/8 [==============================] - 0s 2ms/step - loss: 0.0032\n",
      "Epoch 141/300\n",
      "8/8 [==============================] - 0s 2ms/step - loss: 0.0032\n",
      "Epoch 142/300\n",
      "8/8 [==============================] - 0s 2ms/step - loss: 0.0032\n",
      "Epoch 143/300\n",
      "8/8 [==============================] - 0s 2ms/step - loss: 0.0032\n",
      "Epoch 144/300\n",
      "8/8 [==============================] - 0s 2ms/step - loss: 0.0032\n",
      "Epoch 145/300\n",
      "8/8 [==============================] - 0s 2ms/step - loss: 0.0032\n",
      "Epoch 146/300\n",
      "8/8 [==============================] - 0s 2ms/step - loss: 0.0032\n",
      "Epoch 147/300\n",
      "8/8 [==============================] - 0s 2ms/step - loss: 0.0032\n",
      "Epoch 148/300\n",
      "8/8 [==============================] - 0s 2ms/step - loss: 0.0032\n",
      "Epoch 149/300\n",
      "8/8 [==============================] - 0s 2ms/step - loss: 0.0032\n",
      "Epoch 150/300\n",
      "8/8 [==============================] - 0s 3ms/step - loss: 0.0032\n",
      "Epoch 151/300\n",
      "8/8 [==============================] - 0s 2ms/step - loss: 0.0032\n",
      "Epoch 152/300\n",
      "8/8 [==============================] - 0s 2ms/step - loss: 0.0031\n",
      "Epoch 153/300\n",
      "8/8 [==============================] - 0s 2ms/step - loss: 0.0032\n",
      "Epoch 154/300\n",
      "8/8 [==============================] - 0s 2ms/step - loss: 0.0032\n",
      "Epoch 155/300\n",
      "8/8 [==============================] - 0s 2ms/step - loss: 0.0032\n",
      "Epoch 156/300\n",
      "8/8 [==============================] - 0s 2ms/step - loss: 0.0032\n",
      "Epoch 157/300\n",
      "8/8 [==============================] - 0s 2ms/step - loss: 0.0032\n",
      "Epoch 158/300\n",
      "8/8 [==============================] - 0s 2ms/step - loss: 0.0032\n",
      "Epoch 159/300\n",
      "8/8 [==============================] - 0s 2ms/step - loss: 0.0032\n",
      "Epoch 160/300\n",
      "8/8 [==============================] - 0s 2ms/step - loss: 0.0032\n",
      "Epoch 161/300\n",
      "8/8 [==============================] - 0s 2ms/step - loss: 0.0032\n",
      "Epoch 162/300\n",
      "8/8 [==============================] - 0s 2ms/step - loss: 0.0032\n",
      "Epoch 163/300\n",
      "8/8 [==============================] - 0s 2ms/step - loss: 0.0032\n",
      "Epoch 164/300\n",
      "8/8 [==============================] - 0s 2ms/step - loss: 0.0032\n",
      "Epoch 165/300\n",
      "8/8 [==============================] - 0s 3ms/step - loss: 0.0032\n",
      "Epoch 166/300\n",
      "8/8 [==============================] - 0s 2ms/step - loss: 0.0032\n",
      "Epoch 167/300\n",
      "8/8 [==============================] - 0s 2ms/step - loss: 0.0032\n",
      "Epoch 168/300\n",
      "8/8 [==============================] - 0s 2ms/step - loss: 0.0033\n",
      "Epoch 169/300\n",
      "8/8 [==============================] - 0s 2ms/step - loss: 0.0032\n",
      "Epoch 170/300\n",
      "8/8 [==============================] - 0s 2ms/step - loss: 0.0032\n",
      "Epoch 171/300\n",
      "8/8 [==============================] - 0s 2ms/step - loss: 0.0032\n",
      "Epoch 172/300\n",
      "8/8 [==============================] - 0s 2ms/step - loss: 0.0032\n",
      "Epoch 173/300\n",
      "8/8 [==============================] - 0s 2ms/step - loss: 0.0032\n",
      "Epoch 174/300\n",
      "8/8 [==============================] - 0s 2ms/step - loss: 0.0032\n",
      "Epoch 175/300\n",
      "8/8 [==============================] - 0s 2ms/step - loss: 0.0032\n",
      "Epoch 176/300\n",
      "8/8 [==============================] - 0s 2ms/step - loss: 0.0032\n",
      "Epoch 177/300\n",
      "8/8 [==============================] - 0s 2ms/step - loss: 0.0032\n",
      "Epoch 178/300\n",
      "8/8 [==============================] - 0s 2ms/step - loss: 0.0032\n",
      "Epoch 179/300\n",
      "8/8 [==============================] - 0s 2ms/step - loss: 0.0033\n",
      "Epoch 180/300\n",
      "8/8 [==============================] - 0s 3ms/step - loss: 0.0032\n",
      "Epoch 181/300\n",
      "8/8 [==============================] - 0s 2ms/step - loss: 0.0032\n",
      "Epoch 182/300\n",
      "8/8 [==============================] - 0s 2ms/step - loss: 0.0032\n",
      "Epoch 183/300\n",
      "8/8 [==============================] - 0s 2ms/step - loss: 0.0032\n",
      "Epoch 184/300\n",
      "8/8 [==============================] - 0s 2ms/step - loss: 0.0032\n",
      "Epoch 185/300\n",
      "8/8 [==============================] - 0s 2ms/step - loss: 0.0032\n",
      "Epoch 186/300\n",
      "8/8 [==============================] - 0s 2ms/step - loss: 0.0032\n",
      "Epoch 187/300\n",
      "8/8 [==============================] - 0s 2ms/step - loss: 0.0032\n",
      "Epoch 188/300\n",
      "8/8 [==============================] - 0s 2ms/step - loss: 0.0032\n",
      "Epoch 189/300\n",
      "8/8 [==============================] - 0s 2ms/step - loss: 0.0032\n",
      "Epoch 190/300\n",
      "8/8 [==============================] - 0s 2ms/step - loss: 0.0032\n",
      "Epoch 191/300\n",
      "8/8 [==============================] - 0s 2ms/step - loss: 0.0032\n",
      "Epoch 192/300\n",
      "8/8 [==============================] - 0s 3ms/step - loss: 0.0032\n",
      "Epoch 193/300\n",
      "8/8 [==============================] - 0s 2ms/step - loss: 0.0032\n",
      "Epoch 194/300\n",
      "8/8 [==============================] - 0s 2ms/step - loss: 0.0032\n",
      "Epoch 195/300\n",
      "8/8 [==============================] - 0s 2ms/step - loss: 0.0032\n",
      "Epoch 196/300\n",
      "8/8 [==============================] - 0s 2ms/step - loss: 0.0032\n",
      "Epoch 197/300\n",
      "8/8 [==============================] - 0s 2ms/step - loss: 0.0032\n",
      "Epoch 198/300\n",
      "8/8 [==============================] - 0s 2ms/step - loss: 0.0032\n",
      "Epoch 199/300\n",
      "8/8 [==============================] - 0s 2ms/step - loss: 0.0032\n",
      "Epoch 200/300\n",
      "8/8 [==============================] - 0s 2ms/step - loss: 0.0032\n",
      "Epoch 201/300\n",
      "8/8 [==============================] - 0s 2ms/step - loss: 0.0032\n",
      "Epoch 202/300\n",
      "8/8 [==============================] - 0s 2ms/step - loss: 0.0032\n",
      "Epoch 203/300\n",
      "8/8 [==============================] - 0s 2ms/step - loss: 0.0032\n",
      "Epoch 204/300\n",
      "8/8 [==============================] - 0s 2ms/step - loss: 0.0032\n",
      "Epoch 205/300\n",
      "8/8 [==============================] - 0s 2ms/step - loss: 0.0032\n",
      "Epoch 206/300\n",
      "8/8 [==============================] - 0s 2ms/step - loss: 0.0032\n",
      "Epoch 207/300\n",
      "8/8 [==============================] - 0s 2ms/step - loss: 0.0032\n",
      "Epoch 208/300\n",
      "8/8 [==============================] - 0s 2ms/step - loss: 0.0032\n",
      "Epoch 209/300\n",
      "8/8 [==============================] - 0s 2ms/step - loss: 0.0032\n",
      "Epoch 210/300\n",
      "8/8 [==============================] - 0s 2ms/step - loss: 0.0032\n",
      "Epoch 211/300\n",
      "8/8 [==============================] - 0s 2ms/step - loss: 0.0032\n",
      "Epoch 212/300\n",
      "8/8 [==============================] - 0s 2ms/step - loss: 0.0032\n",
      "Epoch 213/300\n",
      "8/8 [==============================] - 0s 2ms/step - loss: 0.0032\n",
      "Epoch 214/300\n",
      "8/8 [==============================] - 0s 2ms/step - loss: 0.0032\n",
      "Epoch 215/300\n",
      "8/8 [==============================] - 0s 3ms/step - loss: 0.0032\n",
      "Epoch 216/300\n",
      "8/8 [==============================] - 0s 2ms/step - loss: 0.0032\n",
      "Epoch 217/300\n",
      "8/8 [==============================] - 0s 2ms/step - loss: 0.0032\n",
      "Epoch 218/300\n",
      "8/8 [==============================] - 0s 2ms/step - loss: 0.0032\n",
      "Epoch 219/300\n",
      "8/8 [==============================] - 0s 2ms/step - loss: 0.0032\n",
      "Epoch 220/300\n",
      "8/8 [==============================] - 0s 2ms/step - loss: 0.0032\n",
      "Epoch 221/300\n",
      "8/8 [==============================] - 0s 2ms/step - loss: 0.0032\n",
      "Epoch 222/300\n",
      "8/8 [==============================] - 0s 2ms/step - loss: 0.0032\n",
      "Epoch 223/300\n",
      "8/8 [==============================] - 0s 2ms/step - loss: 0.0032\n",
      "Epoch 224/300\n",
      "8/8 [==============================] - 0s 2ms/step - loss: 0.0032\n",
      "Epoch 225/300\n",
      "8/8 [==============================] - 0s 2ms/step - loss: 0.0032\n",
      "Epoch 226/300\n",
      "8/8 [==============================] - 0s 2ms/step - loss: 0.0032\n",
      "Epoch 227/300\n",
      "8/8 [==============================] - 0s 3ms/step - loss: 0.0032\n",
      "Epoch 228/300\n",
      "8/8 [==============================] - 0s 2ms/step - loss: 0.0032\n",
      "Epoch 229/300\n",
      "8/8 [==============================] - 0s 2ms/step - loss: 0.0032\n",
      "Epoch 230/300\n",
      "8/8 [==============================] - 0s 2ms/step - loss: 0.0032\n",
      "Epoch 231/300\n",
      "8/8 [==============================] - 0s 2ms/step - loss: 0.0032\n",
      "Epoch 232/300\n",
      "8/8 [==============================] - 0s 2ms/step - loss: 0.0032\n",
      "Epoch 233/300\n",
      "8/8 [==============================] - 0s 2ms/step - loss: 0.0032\n",
      "Epoch 234/300\n",
      "8/8 [==============================] - 0s 2ms/step - loss: 0.0032\n",
      "Epoch 235/300\n",
      "8/8 [==============================] - 0s 2ms/step - loss: 0.0032\n",
      "Epoch 236/300\n",
      "8/8 [==============================] - 0s 2ms/step - loss: 0.0032\n",
      "Epoch 237/300\n",
      "8/8 [==============================] - 0s 2ms/step - loss: 0.0032\n",
      "Epoch 238/300\n",
      "8/8 [==============================] - 0s 2ms/step - loss: 0.0032\n",
      "Epoch 239/300\n",
      "8/8 [==============================] - 0s 2ms/step - loss: 0.0032\n",
      "Epoch 240/300\n",
      "8/8 [==============================] - 0s 2ms/step - loss: 0.0032\n",
      "Epoch 241/300\n",
      "8/8 [==============================] - 0s 2ms/step - loss: 0.0032\n",
      "Epoch 242/300\n",
      "8/8 [==============================] - 0s 2ms/step - loss: 0.0032\n",
      "Epoch 243/300\n",
      "8/8 [==============================] - 0s 2ms/step - loss: 0.0032\n",
      "Epoch 244/300\n",
      "8/8 [==============================] - 0s 2ms/step - loss: 0.0032\n",
      "Epoch 245/300\n",
      "8/8 [==============================] - 0s 2ms/step - loss: 0.0032\n",
      "Epoch 246/300\n",
      "8/8 [==============================] - 0s 2ms/step - loss: 0.0032\n",
      "Epoch 247/300\n",
      "8/8 [==============================] - 0s 2ms/step - loss: 0.0032\n",
      "Epoch 248/300\n",
      "8/8 [==============================] - 0s 2ms/step - loss: 0.0032\n",
      "Epoch 249/300\n",
      "8/8 [==============================] - 0s 2ms/step - loss: 0.0032\n",
      "Epoch 250/300\n",
      "8/8 [==============================] - 0s 3ms/step - loss: 0.0032\n",
      "Epoch 251/300\n",
      "8/8 [==============================] - 0s 3ms/step - loss: 0.0032\n",
      "Epoch 252/300\n",
      "8/8 [==============================] - 0s 2ms/step - loss: 0.0032\n",
      "Epoch 253/300\n",
      "8/8 [==============================] - 0s 3ms/step - loss: 0.0032\n",
      "Epoch 254/300\n",
      "8/8 [==============================] - 0s 2ms/step - loss: 0.0032\n",
      "Epoch 255/300\n",
      "8/8 [==============================] - 0s 2ms/step - loss: 0.0032\n",
      "Epoch 256/300\n",
      "8/8 [==============================] - 0s 2ms/step - loss: 0.0032\n",
      "Epoch 257/300\n",
      "8/8 [==============================] - 0s 2ms/step - loss: 0.0032\n",
      "Epoch 258/300\n",
      "8/8 [==============================] - 0s 2ms/step - loss: 0.0032\n",
      "Epoch 259/300\n",
      "8/8 [==============================] - 0s 2ms/step - loss: 0.0032\n",
      "Epoch 260/300\n",
      "8/8 [==============================] - 0s 2ms/step - loss: 0.0032\n",
      "Epoch 261/300\n",
      "8/8 [==============================] - 0s 2ms/step - loss: 0.0032\n",
      "Epoch 262/300\n",
      "8/8 [==============================] - 0s 3ms/step - loss: 0.0032\n",
      "Epoch 263/300\n",
      "8/8 [==============================] - 0s 2ms/step - loss: 0.0032\n",
      "Epoch 264/300\n",
      "8/8 [==============================] - 0s 2ms/step - loss: 0.0032\n",
      "Epoch 265/300\n",
      "8/8 [==============================] - 0s 2ms/step - loss: 0.0032\n",
      "Epoch 266/300\n",
      "8/8 [==============================] - 0s 2ms/step - loss: 0.0032\n",
      "Epoch 267/300\n",
      "8/8 [==============================] - 0s 2ms/step - loss: 0.0032\n",
      "Epoch 268/300\n",
      "8/8 [==============================] - 0s 2ms/step - loss: 0.0032\n",
      "Epoch 269/300\n",
      "8/8 [==============================] - 0s 2ms/step - loss: 0.0032\n",
      "Epoch 270/300\n",
      "8/8 [==============================] - 0s 2ms/step - loss: 0.0033\n",
      "Epoch 271/300\n",
      "8/8 [==============================] - 0s 2ms/step - loss: 0.0032\n",
      "Epoch 272/300\n",
      "8/8 [==============================] - 0s 2ms/step - loss: 0.0032\n",
      "Epoch 273/300\n",
      "8/8 [==============================] - 0s 3ms/step - loss: 0.0032\n",
      "Epoch 274/300\n",
      "8/8 [==============================] - 0s 2ms/step - loss: 0.0032\n",
      "Epoch 275/300\n",
      "8/8 [==============================] - 0s 2ms/step - loss: 0.0032\n",
      "Epoch 276/300\n",
      "8/8 [==============================] - 0s 3ms/step - loss: 0.0032\n",
      "Epoch 277/300\n",
      "8/8 [==============================] - 0s 2ms/step - loss: 0.0032\n",
      "Epoch 278/300\n",
      "8/8 [==============================] - 0s 2ms/step - loss: 0.0032\n",
      "Epoch 279/300\n",
      "8/8 [==============================] - 0s 2ms/step - loss: 0.0032\n",
      "Epoch 280/300\n",
      "8/8 [==============================] - 0s 2ms/step - loss: 0.0032\n",
      "Epoch 281/300\n",
      "8/8 [==============================] - 0s 3ms/step - loss: 0.0032\n",
      "Epoch 282/300\n",
      "8/8 [==============================] - 0s 2ms/step - loss: 0.0032\n",
      "Epoch 283/300\n",
      "8/8 [==============================] - 0s 2ms/step - loss: 0.0032\n",
      "Epoch 284/300\n",
      "8/8 [==============================] - 0s 3ms/step - loss: 0.0032\n",
      "Epoch 285/300\n",
      "8/8 [==============================] - 0s 2ms/step - loss: 0.0032\n",
      "Epoch 286/300\n",
      "8/8 [==============================] - 0s 2ms/step - loss: 0.0032\n",
      "Epoch 287/300\n",
      "8/8 [==============================] - 0s 2ms/step - loss: 0.0032\n",
      "Epoch 288/300\n",
      "8/8 [==============================] - 0s 2ms/step - loss: 0.0032\n",
      "Epoch 289/300\n",
      "8/8 [==============================] - 0s 2ms/step - loss: 0.0032\n",
      "Epoch 290/300\n",
      "8/8 [==============================] - 0s 2ms/step - loss: 0.0032\n",
      "Epoch 291/300\n",
      "8/8 [==============================] - 0s 2ms/step - loss: 0.0032\n",
      "Epoch 292/300\n",
      "8/8 [==============================] - 0s 2ms/step - loss: 0.0032\n",
      "Epoch 293/300\n",
      "8/8 [==============================] - 0s 3ms/step - loss: 0.0032\n",
      "Epoch 294/300\n",
      "8/8 [==============================] - 0s 2ms/step - loss: 0.0032\n",
      "Epoch 295/300\n",
      "8/8 [==============================] - 0s 2ms/step - loss: 0.0032\n",
      "Epoch 296/300\n",
      "8/8 [==============================] - 0s 2ms/step - loss: 0.0032\n",
      "Epoch 297/300\n",
      "8/8 [==============================] - 0s 2ms/step - loss: 0.0032\n",
      "Epoch 298/300\n",
      "8/8 [==============================] - 0s 2ms/step - loss: 0.0032\n",
      "Epoch 299/300\n",
      "8/8 [==============================] - 0s 2ms/step - loss: 0.0032\n",
      "Epoch 300/300\n",
      "8/8 [==============================] - 0s 2ms/step - loss: 0.0032\n"
     ]
    },
    {
     "data": {
      "image/png": "[encoded data removed]",
      "text/plain": [
       "<Figure size 432x288 with 1 Axes>"
      ]
     },
     "metadata": {
      "needs_background": "light"
     },
     "output_type": "display_data"
    }
   ],
   "source": [
    "model = tf.keras.Sequential()\n",
    "model.add(tf.keras.layers.Dense(3, input_shape=[1]))\n",
    "model.compile(loss='mean_squared_error', optimizer=tf.keras.optimizers.Adam(0.01))\n",
    "history = model.fit(dfX, dfY, epochs=300)\n",
    "plt.plot(history.history['loss'])\n",
    "plt.title(\"Loss\")\n",
    "plt.show()"
   ]
  },
  {
   "cell_type": "code",
   "execution_count": 191,
   "id": "8d63b6af",
   "metadata": {},
   "outputs": [
    {
     "name": "stdout",
     "output_type": "stream",
     "text": [
      "8/8 [==============================] - 0s 858us/step\n"
     ]
    }
   ],
   "source": [
    "dfPred = model.predict(dfX)"
   ]
  },
  {
   "cell_type": "code",
   "execution_count": 192,
   "id": "9bf37d89",
   "metadata": {},
   "outputs": [
    {
     "data": {
      "image/png": "[encoded data removed]",
      "text/plain": [
       "<Figure size 432x288 with 1 Axes>"
      ]
     },
     "metadata": {
      "needs_background": "light"
     },
     "output_type": "display_data"
    }
   ],
   "source": [
    "plt.scatter(dfX, dfY)\n",
    "plt.plot(dfX, dfPred, color='r')\n",
    "plt.show()"
   ]
  },
  {
   "cell_type": "code",
   "execution_count": 193,
   "id": "4f8616a7",
   "metadata": {},
   "outputs": [
    {
     "name": "stdout",
     "output_type": "stream",
     "text": [
      "1/1 [==============================] - 0s 36ms/step\n"
     ]
    },
    {
     "data": {
      "image/png": "[encoded data removed]",
      "text/plain": [
       "<Figure size 432x288 with 1 Axes>"
      ]
     },
     "metadata": {
      "needs_background": "light"
     },
     "output_type": "display_data"
    },
    {
     "name": "stdout",
     "output_type": "stream",
     "text": [
      "1/1 [==============================] - 0s 22ms/step\n"
     ]
    },
    {
     "data": {
      "image/png": "[encoded data removed]",
      "text/plain": [
       "<Figure size 432x288 with 1 Axes>"
      ]
     },
     "metadata": {
      "needs_background": "light"
     },
     "output_type": "display_data"
    }
   ],
   "source": [
    "# Test the model \n",
    "\n",
    "Bgd_Color = 0 # Dark \n",
    "Txt_Color = abs(((model.predict([Bgd_Color]))[0])[0])\n",
    "plt.title(\"Example 1\")\n",
    "plt.text(0.5, 0.5, \"Hello World\", size=50, rotation=0., color=(Txt_Color, Txt_Color, Txt_Color),\n",
    "         ha=\"center\", va=\"center\",\n",
    "         bbox=dict(boxstyle=\"round\",\n",
    "                   ec=(1, 1, 1),\n",
    "                   fc=(Bgd_Color, Bgd_Color, Bgd_Color),\n",
    "                   )\n",
    "         )\n",
    "plt.show()\n",
    "\n",
    "Bgd_Color = 1 # Dark \n",
    "Txt_Color = abs(((model.predict([Bgd_Color]))[0])[0])\n",
    "plt.title(\"Example 2\")\n",
    "plt.text(0.5, 0.5, \"Hello World\", size=50, rotation=0., color=(Txt_Color, Txt_Color, Txt_Color),\n",
    "         ha=\"center\", va=\"center\",\n",
    "         bbox=dict(boxstyle=\"round\",\n",
    "                   ec=(1, 1, 1),\n",
    "                   fc=(Bgd_Color, Bgd_Color, Bgd_Color),\n",
    "                   )\n",
    "         )\n",
    "plt.show()\n"
   ]
  },
  {
   "cell_type": "code",
   "execution_count": 194,
   "id": "24b22661",
   "metadata": {},
   "outputs": [
    {
     "name": "stdout",
     "output_type": "stream",
     "text": [
      "INFO:tensorflow:Assets written to: saved_model/model1\\assets\n"
     ]
    }
   ],
   "source": [
    "# Saving the model \n",
    "\n",
    "model.save('saved_model/model1')"
   ]
  },
  {
   "cell_type": "code",
   "execution_count": 195,
   "id": "f03b571b",
   "metadata": {},
   "outputs": [
    {
     "name": "stdout",
     "output_type": "stream",
     "text": [
      "1/1 [==============================] - 0s 21ms/step\n"
     ]
    },
    {
     "data": {
      "image/png": "[encoded data removed]",
      "text/plain": [
       "<Figure size 72x72 with 1 Axes>"
      ]
     },
     "metadata": {
      "needs_background": "light"
     },
     "output_type": "display_data"
    },
    {
     "name": "stdout",
     "output_type": "stream",
     "text": [
      "1/1 [==============================] - 0s 22ms/step\n"
     ]
    },
    {
     "data": {
      "image/png": "[encoded data removed]",
      "text/plain": [
       "<Figure size 72x72 with 1 Axes>"
      ]
     },
     "metadata": {
      "needs_background": "light"
     },
     "output_type": "display_data"
    },
    {
     "name": "stdout",
     "output_type": "stream",
     "text": [
      "1/1 [==============================] - 0s 22ms/step\n"
     ]
    },
    {
     "data": {
      "image/png": "[encoded data removed]",
      "text/plain": [
       "<Figure size 72x72 with 1 Axes>"
      ]
     },
     "metadata": {
      "needs_background": "light"
     },
     "output_type": "display_data"
    },
    {
     "name": "stdout",
     "output_type": "stream",
     "text": [
      "1/1 [==============================] - 0s 22ms/step\n"
     ]
    },
    {
     "data": {
      "image/png": "[encoded data removed]",
      "text/plain": [
       "<Figure size 72x72 with 1 Axes>"
      ]
     },
     "metadata": {
      "needs_background": "light"
     },
     "output_type": "display_data"
    },
    {
     "name": "stdout",
     "output_type": "stream",
     "text": [
      "1/1 [==============================] - 0s 22ms/step\n"
     ]
    },
    {
     "data": {
      "image/png": "[encoded data removed]",
      "text/plain": [
       "<Figure size 72x72 with 1 Axes>"
      ]
     },
     "metadata": {
      "needs_background": "light"
     },
     "output_type": "display_data"
    },
    {
     "name": "stdout",
     "output_type": "stream",
     "text": [
      "1/1 [==============================] - 0s 24ms/step\n"
     ]
    },
    {
     "data": {
      "image/png": "[encoded data removed]",
      "text/plain": [
       "<Figure size 72x72 with 1 Axes>"
      ]
     },
     "metadata": {
      "needs_background": "light"
     },
     "output_type": "display_data"
    },
    {
     "name": "stdout",
     "output_type": "stream",
     "text": [
      "1/1 [==============================] - 0s 23ms/step\n"
     ]
    },
    {
     "data": {
      "image/png": "[encoded data removed]",
      "text/plain": [
       "<Figure size 72x72 with 1 Axes>"
      ]
     },
     "metadata": {
      "needs_background": "light"
     },
     "output_type": "display_data"
    },
    {
     "name": "stdout",
     "output_type": "stream",
     "text": [
      "1/1 [==============================] - 0s 23ms/step\n"
     ]
    },
    {
     "data": {
      "image/png": "[encoded data removed]",
      "text/plain": [
       "<Figure size 72x72 with 1 Axes>"
      ]
     },
     "metadata": {
      "needs_background": "light"
     },
     "output_type": "display_data"
    },
    {
     "name": "stdout",
     "output_type": "stream",
     "text": [
      "1/1 [==============================] - 0s 23ms/step\n"
     ]
    },
    {
     "data": {
      "image/png": "[encoded data removed]",
      "text/plain": [
       "<Figure size 72x72 with 1 Axes>"
      ]
     },
     "metadata": {
      "needs_background": "light"
     },
     "output_type": "display_data"
    },
    {
     "name": "stdout",
     "output_type": "stream",
     "text": [
      "1/1 [==============================] - 0s 22ms/step\n"
     ]
    },
    {
     "data": {
      "image/png": "[encoded data removed]",
      "text/plain": [
       "<Figure size 72x72 with 1 Axes>"
      ]
     },
     "metadata": {
      "needs_background": "light"
     },
     "output_type": "display_data"
    },
    {
     "name": "stdout",
     "output_type": "stream",
     "text": [
      "1/1 [==============================] - 0s 24ms/step\n"
     ]
    },
    {
     "data": {
      "image/png": "[encoded data removed]",
      "text/plain": [
       "<Figure size 72x72 with 1 Axes>"
      ]
     },
     "metadata": {
      "needs_background": "light"
     },
     "output_type": "display_data"
    },
    {
     "name": "stdout",
     "output_type": "stream",
     "text": [
      "1/1 [==============================] - 0s 23ms/step\n"
     ]
    },
    {
     "data": {
      "image/png": "[encoded data removed]",
      "text/plain": [
       "<Figure size 72x72 with 1 Axes>"
      ]
     },
     "metadata": {
      "needs_background": "light"
     },
     "output_type": "display_data"
    },
    {
     "name": "stdout",
     "output_type": "stream",
     "text": [
      "1/1 [==============================] - 0s 23ms/step\n"
     ]
    },
    {
     "data": {
      "image/png": "[encoded data removed]",
      "text/plain": [
       "<Figure size 72x72 with 1 Axes>"
      ]
     },
     "metadata": {
      "needs_background": "light"
     },
     "output_type": "display_data"
    },
    {
     "name": "stdout",
     "output_type": "stream",
     "text": [
      "1/1 [==============================] - 0s 22ms/step\n"
     ]
    },
    {
     "data": {
      "image/png": "[encoded data removed]",
      "text/plain": [
       "<Figure size 72x72 with 1 Axes>"
      ]
     },
     "metadata": {
      "needs_background": "light"
     },
     "output_type": "display_data"
    },
    {
     "name": "stdout",
     "output_type": "stream",
     "text": [
      "1/1 [==============================] - 0s 21ms/step\n"
     ]
    },
    {
     "data": {
      "image/png": "[encoded data removed]",
      "text/plain": [
       "<Figure size 72x72 with 1 Axes>"
      ]
     },
     "metadata": {
      "needs_background": "light"
     },
     "output_type": "display_data"
    },
    {
     "name": "stdout",
     "output_type": "stream",
     "text": [
      "1/1 [==============================] - 0s 22ms/step\n"
     ]
    },
    {
     "data": {
      "image/png": "[encoded data removed]",
      "text/plain": [
       "<Figure size 72x72 with 1 Axes>"
      ]
     },
     "metadata": {
      "needs_background": "light"
     },
     "output_type": "display_data"
    },
    {
     "name": "stdout",
     "output_type": "stream",
     "text": [
      "1/1 [==============================] - 0s 22ms/step\n"
     ]
    },
    {
     "data": {
      "image/png": "[encoded data removed]",
      "text/plain": [
       "<Figure size 72x72 with 1 Axes>"
      ]
     },
     "metadata": {
      "needs_background": "light"
     },
     "output_type": "display_data"
    },
    {
     "name": "stdout",
     "output_type": "stream",
     "text": [
      "1/1 [==============================] - 0s 22ms/step\n"
     ]
    },
    {
     "data": {
      "image/png": "[encoded data removed]",
      "text/plain": [
       "<Figure size 72x72 with 1 Axes>"
      ]
     },
     "metadata": {
      "needs_background": "light"
     },
     "output_type": "display_data"
    },
    {
     "name": "stdout",
     "output_type": "stream",
     "text": [
      "1/1 [==============================] - 0s 22ms/step\n"
     ]
    },
    {
     "data": {
      "image/png": "[encoded data removed]",
      "text/plain": [
       "<Figure size 72x72 with 1 Axes>"
      ]
     },
     "metadata": {
      "needs_background": "light"
     },
     "output_type": "display_data"
    },
    {
     "name": "stdout",
     "output_type": "stream",
     "text": [
      "1/1 [==============================] - 0s 22ms/step\n"
     ]
    },
    {
     "data": {
      "image/png": "[encoded data removed]",
      "text/plain": [
       "<Figure size 72x72 with 1 Axes>"
      ]
     },
     "metadata": {
      "needs_background": "light"
     },
     "output_type": "display_data"
    },
    {
     "name": "stdout",
     "output_type": "stream",
     "text": [
      "1/1 [==============================] - 0s 21ms/step\n"
     ]
    },
    {
     "data": {
      "image/png": "[encoded data removed]",
      "text/plain": [
       "<Figure size 72x72 with 1 Axes>"
      ]
     },
     "metadata": {
      "needs_background": "light"
     },
     "output_type": "display_data"
    },
    {
     "name": "stdout",
     "output_type": "stream",
     "text": [
      "1/1 [==============================] - 0s 22ms/step\n"
     ]
    },
    {
     "data": {
      "image/png": "[encoded data removed]",
      "text/plain": [
       "<Figure size 72x72 with 1 Axes>"
      ]
     },
     "metadata": {
      "needs_background": "light"
     },
     "output_type": "display_data"
    },
    {
     "name": "stdout",
     "output_type": "stream",
     "text": [
      "1/1 [==============================] - 0s 21ms/step\n"
     ]
    },
    {
     "data": {
      "image/png": "[encoded data removed]",
      "text/plain": [
       "<Figure size 72x72 with 1 Axes>"
      ]
     },
     "metadata": {
      "needs_background": "light"
     },
     "output_type": "display_data"
    },
    {
     "name": "stdout",
     "output_type": "stream",
     "text": [
      "1/1 [==============================] - 0s 22ms/step\n"
     ]
    },
    {
     "data": {
      "image/png": "[encoded data removed]",
      "text/plain": [
       "<Figure size 72x72 with 1 Axes>"
      ]
     },
     "metadata": {
      "needs_background": "light"
     },
     "output_type": "display_data"
    },
    {
     "name": "stdout",
     "output_type": "stream",
     "text": [
      "1/1 [==============================] - 0s 26ms/step\n"
     ]
    },
    {
     "data": {
      "image/png": "[encoded data removed]",
      "text/plain": [
       "<Figure size 72x72 with 1 Axes>"
      ]
     },
     "metadata": {
      "needs_background": "light"
     },
     "output_type": "display_data"
    },
    {
     "name": "stdout",
     "output_type": "stream",
     "text": [
      "1/1 [==============================] - 0s 23ms/step\n"
     ]
    },
    {
     "data": {
      "image/png": "[encoded data removed]",
      "text/plain": [
       "<Figure size 72x72 with 1 Axes>"
      ]
     },
     "metadata": {
      "needs_background": "light"
     },
     "output_type": "display_data"
    },
    {
     "name": "stdout",
     "output_type": "stream",
     "text": [
      "1/1 [==============================] - 0s 22ms/step\n"
     ]
    },
    {
     "data": {
      "image/png": "[encoded data removed]",
      "text/plain": [
       "<Figure size 72x72 with 1 Axes>"
      ]
     },
     "metadata": {
      "needs_background": "light"
     },
     "output_type": "display_data"
    },
    {
     "name": "stdout",
     "output_type": "stream",
     "text": [
      "1/1 [==============================] - 0s 23ms/step\n"
     ]
    },
    {
     "data": {
      "image/png": "[encoded data removed]",
      "text/plain": [
       "<Figure size 72x72 with 1 Axes>"
      ]
     },
     "metadata": {
      "needs_background": "light"
     },
     "output_type": "display_data"
    },
    {
     "name": "stdout",
     "output_type": "stream",
     "text": [
      "1/1 [==============================] - 0s 23ms/step\n"
     ]
    },
    {
     "data": {
      "image/png": "[encoded data removed]",
      "text/plain": [
       "<Figure size 72x72 with 1 Axes>"
      ]
     },
     "metadata": {
      "needs_background": "light"
     },
     "output_type": "display_data"
    },
    {
     "name": "stdout",
     "output_type": "stream",
     "text": [
      "1/1 [==============================] - 0s 23ms/step\n"
     ]
    },
    {
     "data": {
      "image/png": "[encoded data removed]",
      "text/plain": [
       "<Figure size 72x72 with 1 Axes>"
      ]
     },
     "metadata": {
      "needs_background": "light"
     },
     "output_type": "display_data"
    },
    {
     "name": "stdout",
     "output_type": "stream",
     "text": [
      "1/1 [==============================] - 0s 24ms/step\n"
     ]
    },
    {
     "data": {
      "image/png": "[encoded data removed]",
      "text/plain": [
       "<Figure size 72x72 with 1 Axes>"
      ]
     },
     "metadata": {
      "needs_background": "light"
     },
     "output_type": "display_data"
    },
    {
     "name": "stdout",
     "output_type": "stream",
     "text": [
      "1/1 [==============================] - 0s 23ms/step\n"
     ]
    },
    {
     "data": {
      "image/png": "[encoded data removed]",
      "text/plain": [
       "<Figure size 72x72 with 1 Axes>"
      ]
     },
     "metadata": {
      "needs_background": "light"
     },
     "output_type": "display_data"
    },
    {
     "name": "stdout",
     "output_type": "stream",
     "text": [
      "1/1 [==============================] - 0s 22ms/step\n"
     ]
    },
    {
     "data": {
      "image/png": "[encoded data removed]",
      "text/plain": [
       "<Figure size 72x72 with 1 Axes>"
      ]
     },
     "metadata": {
      "needs_background": "light"
     },
     "output_type": "display_data"
    },
    {
     "name": "stdout",
     "output_type": "stream",
     "text": [
      "1/1 [==============================] - 0s 22ms/step\n"
     ]
    },
    {
     "data": {
      "image/png": "[encoded data removed]",
      "text/plain": [
       "<Figure size 72x72 with 1 Axes>"
      ]
     },
     "metadata": {
      "needs_background": "light"
     },
     "output_type": "display_data"
    },
    {
     "name": "stdout",
     "output_type": "stream",
     "text": [
      "1/1 [==============================] - 0s 21ms/step\n"
     ]
    },
    {
     "data": {
      "image/png": "[encoded data removed]",
      "text/plain": [
       "<Figure size 72x72 with 1 Axes>"
      ]
     },
     "metadata": {
      "needs_background": "light"
     },
     "output_type": "display_data"
    },
    {
     "name": "stdout",
     "output_type": "stream",
     "text": [
      "1/1 [==============================] - 0s 21ms/step\n"
     ]
    },
    {
     "data": {
      "image/png": "[encoded data removed]",
      "text/plain": [
       "<Figure size 72x72 with 1 Axes>"
      ]
     },
     "metadata": {
      "needs_background": "light"
     },
     "output_type": "display_data"
    },
    {
     "name": "stdout",
     "output_type": "stream",
     "text": [
      "1/1 [==============================] - 0s 23ms/step\n"
     ]
    }
   ],
   "source": [
    "#Testing with more values \n",
    "Bgd_Color = 0\n",
    "Txt_Color = abs(((model.predict([Bgd_Color]))[0])[0])\n",
    "\n",
    "list_of_plots = []\n",
    "for i in range(36): \n",
    "    plt.figure(figsize=(1,1))    \n",
    "    plt.title(\"Example: \" + str(i))\n",
    "    plt.text(0.5, 0.5, \"Test\", size=50, rotation=0., color=(Txt_Color, Txt_Color, Txt_Color),\n",
    "            ha=\"center\", va=\"center\",\n",
    "            bbox=dict(boxstyle=\"round\",\n",
    "                    ec=(1, 1, 1),\n",
    "                    fc=(Bgd_Color/36, Bgd_Color/36, Bgd_Color/36),\n",
    "                    )\n",
    "            )\n",
    "\n",
    "    plt.show()\n",
    "\n",
    "    Bgd_Color = (Bgd_Color + 1)\n",
    "    Txt_Color = abs(((model.predict([Bgd_Color/36]))[0])[0])"
   ]
  },
  {
   "cell_type": "code",
   "execution_count": null,
   "id": "e9656177",
   "metadata": {},
   "outputs": [],
   "source": []
  },
  {
   "cell_type": "code",
   "execution_count": null,
   "id": "105371ef",
   "metadata": {},
   "outputs": [],
   "source": []
  }
 ],
 "metadata": {
  "interpreter": {
   "hash": "083b3d905a930963e78747a689489bf65fbcec15f366fbc7599c5176e3140817"
  },
  "kernelspec": {
   "display_name": "Python 3.9.10 64-bit",
   "language": "python",
   "name": "python3"
  },
  "language_info": {
   "codemirror_mode": {
    "name": "ipython",
    "version": 3
   },
   "file_extension": ".py",
   "mimetype": "text/x-python",
   "name": "python",
   "nbconvert_exporter": "python",
   "pygments_lexer": "ipython3",
   "version": "3.9.10"
  }
 },
 "nbformat": 4,
 "nbformat_minor": 5
}
