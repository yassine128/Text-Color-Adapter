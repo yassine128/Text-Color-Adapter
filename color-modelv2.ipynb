{
 "cells": [
  {
   "cell_type": "code",
   "execution_count": 1,
   "metadata": {},
   "outputs": [
    {
     "data": {
      "text/plain": [
       "'\\nVersion 2 of the model which will hopefully be better!\\n\\nTo make things easier, we will only have black: 0, and white: 1, for the text color available\\nFor the V2, I will with all the variation of black - white for the background. Other colors will be added for the V3. \\n\\nExample of the new dataSet: \\n\\n====================================\\nText Color      |  Background Color\\n====================================\\nBlack           |  (255, 255, 255)\\n------------------------------------\\nWhite           |  (0, 0, 0)\\n====================================\\n\\n\\n'"
      ]
     },
     "execution_count": 1,
     "metadata": {},
     "output_type": "execute_result"
    }
   ],
   "source": [
    "\"\"\"\n",
    "Version 2 of the model which will hopefully be better!\n",
    "\n",
    "To make things easier, we will only have black: 0, and white: 1, for the text color available\n",
    "For the V2, I will with all the variation of black - white for the background. Other colors will be added for the V3. \n",
    "\n",
    "Example of the new dataSet: \n",
    "\n",
    "====================================\n",
    "Text Color      |  Background Color\n",
    "====================================\n",
    "Black           |  (255, 255, 255)\n",
    "------------------------------------\n",
    "White           |  (0, 0, 0)\n",
    "====================================\n",
    "\n",
    "\n",
    "\"\"\"\n",
    "\n"
   ]
  },
  {
   "cell_type": "code",
   "execution_count": 2,
   "metadata": {},
   "outputs": [
    {
     "data": {
      "text/html": [
       "<div>\n",
       "<style scoped>\n",
       "    .dataframe tbody tr th:only-of-type {\n",
       "        vertical-align: middle;\n",
       "    }\n",
       "\n",
       "    .dataframe tbody tr th {\n",
       "        vertical-align: top;\n",
       "    }\n",
       "\n",
       "    .dataframe thead th {\n",
       "        text-align: right;\n",
       "    }\n",
       "</style>\n",
       "<table border=\"1\" class=\"dataframe\">\n",
       "  <thead>\n",
       "    <tr style=\"text-align: right;\">\n",
       "      <th></th>\n",
       "      <th>RED</th>\n",
       "      <th>GREEN</th>\n",
       "      <th>BLUE</th>\n",
       "      <th>Txt_Col</th>\n",
       "    </tr>\n",
       "  </thead>\n",
       "  <tbody>\n",
       "    <tr>\n",
       "      <th>0</th>\n",
       "      <td>0</td>\n",
       "      <td>0</td>\n",
       "      <td>0</td>\n",
       "      <td>1</td>\n",
       "    </tr>\n",
       "    <tr>\n",
       "      <th>1</th>\n",
       "      <td>255</td>\n",
       "      <td>255</td>\n",
       "      <td>255</td>\n",
       "      <td>0</td>\n",
       "    </tr>\n",
       "    <tr>\n",
       "      <th>2</th>\n",
       "      <td>88</td>\n",
       "      <td>215</td>\n",
       "      <td>20</td>\n",
       "      <td>0</td>\n",
       "    </tr>\n",
       "    <tr>\n",
       "      <th>3</th>\n",
       "      <td>53</td>\n",
       "      <td>115</td>\n",
       "      <td>12</td>\n",
       "      <td>1</td>\n",
       "    </tr>\n",
       "    <tr>\n",
       "      <th>4</th>\n",
       "      <td>177</td>\n",
       "      <td>221</td>\n",
       "      <td>110</td>\n",
       "      <td>0</td>\n",
       "    </tr>\n",
       "    <tr>\n",
       "      <th>5</th>\n",
       "      <td>73</td>\n",
       "      <td>92</td>\n",
       "      <td>167</td>\n",
       "      <td>1</td>\n",
       "    </tr>\n",
       "    <tr>\n",
       "      <th>6</th>\n",
       "      <td>76</td>\n",
       "      <td>200</td>\n",
       "      <td>169</td>\n",
       "      <td>0</td>\n",
       "    </tr>\n",
       "    <tr>\n",
       "      <th>7</th>\n",
       "      <td>32</td>\n",
       "      <td>147</td>\n",
       "      <td>16</td>\n",
       "      <td>1</td>\n",
       "    </tr>\n",
       "    <tr>\n",
       "      <th>8</th>\n",
       "      <td>156</td>\n",
       "      <td>34</td>\n",
       "      <td>180</td>\n",
       "      <td>1</td>\n",
       "    </tr>\n",
       "    <tr>\n",
       "      <th>9</th>\n",
       "      <td>213</td>\n",
       "      <td>146</td>\n",
       "      <td>227</td>\n",
       "      <td>0</td>\n",
       "    </tr>\n",
       "    <tr>\n",
       "      <th>10</th>\n",
       "      <td>215</td>\n",
       "      <td>234</td>\n",
       "      <td>174</td>\n",
       "      <td>0</td>\n",
       "    </tr>\n",
       "    <tr>\n",
       "      <th>11</th>\n",
       "      <td>223</td>\n",
       "      <td>88</td>\n",
       "      <td>187</td>\n",
       "      <td>1</td>\n",
       "    </tr>\n",
       "    <tr>\n",
       "      <th>12</th>\n",
       "      <td>123</td>\n",
       "      <td>34</td>\n",
       "      <td>170</td>\n",
       "      <td>1</td>\n",
       "    </tr>\n",
       "    <tr>\n",
       "      <th>13</th>\n",
       "      <td>81</td>\n",
       "      <td>195</td>\n",
       "      <td>210</td>\n",
       "      <td>0</td>\n",
       "    </tr>\n",
       "    <tr>\n",
       "      <th>14</th>\n",
       "      <td>4</td>\n",
       "      <td>154</td>\n",
       "      <td>124</td>\n",
       "      <td>1</td>\n",
       "    </tr>\n",
       "    <tr>\n",
       "      <th>15</th>\n",
       "      <td>206</td>\n",
       "      <td>201</td>\n",
       "      <td>28</td>\n",
       "      <td>0</td>\n",
       "    </tr>\n",
       "    <tr>\n",
       "      <th>16</th>\n",
       "      <td>149</td>\n",
       "      <td>147</td>\n",
       "      <td>86</td>\n",
       "      <td>1</td>\n",
       "    </tr>\n",
       "    <tr>\n",
       "      <th>17</th>\n",
       "      <td>255</td>\n",
       "      <td>0</td>\n",
       "      <td>0</td>\n",
       "      <td>1</td>\n",
       "    </tr>\n",
       "  </tbody>\n",
       "</table>\n",
       "</div>"
      ],
      "text/plain": [
       "    RED  GREEN  BLUE  Txt_Col\n",
       "0     0      0     0        1\n",
       "1   255    255   255        0\n",
       "2    88    215    20        0\n",
       "3    53    115    12        1\n",
       "4   177    221   110        0\n",
       "5    73     92   167        1\n",
       "6    76    200   169        0\n",
       "7    32    147    16        1\n",
       "8   156     34   180        1\n",
       "9   213    146   227        0\n",
       "10  215    234   174        0\n",
       "11  223     88   187        1\n",
       "12  123     34   170        1\n",
       "13   81    195   210        0\n",
       "14    4    154   124        1\n",
       "15  206    201    28        0\n",
       "16  149    147    86        1\n",
       "17  255      0     0        1"
      ]
     },
     "execution_count": 2,
     "metadata": {},
     "output_type": "execute_result"
    }
   ],
   "source": [
    "# Create Custom dataset\n",
    "\n",
    "import pandas as pd\n",
    "import warnings\n",
    "warnings.filterwarnings('ignore')\n",
    "Bgd_Col = [(0, 0, 0), (255, 255, 255), (88, 215, 20), \n",
    "                                (53, 115, 12), (177, 221, 110), (73, 92, 167),\n",
    "                                (76, 200, 169), (32, 147, 16), (156, 34, 180), \n",
    "                                (213, 146, 227), (215, 234, 174), (223, 88, 187), \n",
    "                                (123, 34, 170), (81, 195, 210), (4, 154, 124), \n",
    "                                (206, 201, 28), (149, 147, 86), (255, 0, 0)]\n",
    "\n",
    "data = {'RED': [],\n",
    "        'GREEN': [],\n",
    "        'BLUE': [],\n",
    "        'Txt_Col': [1, 0, 0, 1, 0, 1, 0, 1, 1, 0, 0, 1, 1, 0, 1, 0, 1, 1]}\n",
    "\n",
    "for values in Bgd_Col:\n",
    "    data['RED'].append(values[0])\n",
    "    data['GREEN'].append(values[1])\n",
    "    data['BLUE'].append(values[2])\n",
    "\n",
    "\n",
    "df = pd.DataFrame(data)\n",
    "df.to_csv('dataV2.csv') # Save DataFrame as a csv file\n",
    "df"
   ]
  },
  {
   "cell_type": "code",
   "execution_count": 3,
   "metadata": {},
   "outputs": [
    {
     "data": {
      "application/vnd.plotly.v1+json": {
       "config": {
        "plotlyServerURL": "https://plot.ly"
       },
       "data": [
        {
         "hovertemplate": "RED=%{x}<br>GREEN=%{y}<br>BLUE=%{z}<extra></extra>",
         "legendgroup": "",
         "marker": {
          "color": "#636efa",
          "opacity": 0.5,
          "symbol": "circle"
         },
         "mode": "markers",
         "name": "",
         "scene": "scene",
         "showlegend": false,
         "type": "scatter3d",
         "x": [
          0,
          255,
          88,
          53,
          177,
          73,
          76,
          32,
          156,
          213,
          215,
          223,
          123,
          81,
          4,
          206,
          149,
          255
         ],
         "y": [
          0,
          255,
          215,
          115,
          221,
          92,
          200,
          147,
          34,
          146,
          234,
          88,
          34,
          195,
          154,
          201,
          147,
          0
         ],
         "z": [
          0,
          255,
          20,
          12,
          110,
          167,
          169,
          16,
          180,
          227,
          174,
          187,
          170,
          210,
          124,
          28,
          86,
          0
         ]
        }
       ],
       "layout": {
        "legend": {
         "tracegroupgap": 0
        },
        "margin": {
         "t": 60
        },
        "scene": {
         "domain": {
          "x": [
           0,
           1
          ],
          "y": [
           0,
           1
          ]
         },
         "xaxis": {
          "title": {
           "text": "RED"
          }
         },
         "yaxis": {
          "title": {
           "text": "GREEN"
          }
         },
         "zaxis": {
          "title": {
           "text": "BLUE"
          }
         }
        },
        "template": {
         "data": {
          "bar": [
           {
            "error_x": {
             "color": "#2a3f5f"
            },
            "error_y": {
             "color": "#2a3f5f"
            },
            "marker": {
             "line": {
              "color": "#E5ECF6",
              "width": 0.5
             },
             "pattern": {
              "fillmode": "overlay",
              "size": 10,
              "solidity": 0.2
             }
            },
            "type": "bar"
           }
          ],
          "barpolar": [
           {
            "marker": {
             "line": {
              "color": "#E5ECF6",
              "width": 0.5
             },
             "pattern": {
              "fillmode": "overlay",
              "size": 10,
              "solidity": 0.2
             }
            },
            "type": "barpolar"
           }
          ],
          "carpet": [
           {
            "aaxis": {
             "endlinecolor": "#2a3f5f",
             "gridcolor": "white",
             "linecolor": "white",
             "minorgridcolor": "white",
             "startlinecolor": "#2a3f5f"
            },
            "baxis": {
             "endlinecolor": "#2a3f5f",
             "gridcolor": "white",
             "linecolor": "white",
             "minorgridcolor": "white",
             "startlinecolor": "#2a3f5f"
            },
            "type": "carpet"
           }
          ],
          "choropleth": [
           {
            "colorbar": {
             "outlinewidth": 0,
             "ticks": ""
            },
            "type": "choropleth"
           }
          ],
          "contour": [
           {
            "colorbar": {
             "outlinewidth": 0,
             "ticks": ""
            },
            "colorscale": [
             [
              0,
              "#0d0887"
             ],
             [
              0.1111111111111111,
              "#46039f"
             ],
             [
              0.2222222222222222,
              "#7201a8"
             ],
             [
              0.3333333333333333,
              "#9c179e"
             ],
             [
              0.4444444444444444,
              "#bd3786"
             ],
             [
              0.5555555555555556,
              "#d8576b"
             ],
             [
              0.6666666666666666,
              "#ed7953"
             ],
             [
              0.7777777777777778,
              "#fb9f3a"
             ],
             [
              0.8888888888888888,
              "#fdca26"
             ],
             [
              1,
              "#f0f921"
             ]
            ],
            "type": "contour"
           }
          ],
          "contourcarpet": [
           {
            "colorbar": {
             "outlinewidth": 0,
             "ticks": ""
            },
            "type": "contourcarpet"
           }
          ],
          "heatmap": [
           {
            "colorbar": {
             "outlinewidth": 0,
             "ticks": ""
            },
            "colorscale": [
             [
              0,
              "#0d0887"
             ],
             [
              0.1111111111111111,
              "#46039f"
             ],
             [
              0.2222222222222222,
              "#7201a8"
             ],
             [
              0.3333333333333333,
              "#9c179e"
             ],
             [
              0.4444444444444444,
              "#bd3786"
             ],
             [
              0.5555555555555556,
              "#d8576b"
             ],
             [
              0.6666666666666666,
              "#ed7953"
             ],
             [
              0.7777777777777778,
              "#fb9f3a"
             ],
             [
              0.8888888888888888,
              "#fdca26"
             ],
             [
              1,
              "#f0f921"
             ]
            ],
            "type": "heatmap"
           }
          ],
          "heatmapgl": [
           {
            "colorbar": {
             "outlinewidth": 0,
             "ticks": ""
            },
            "colorscale": [
             [
              0,
              "#0d0887"
             ],
             [
              0.1111111111111111,
              "#46039f"
             ],
             [
              0.2222222222222222,
              "#7201a8"
             ],
             [
              0.3333333333333333,
              "#9c179e"
             ],
             [
              0.4444444444444444,
              "#bd3786"
             ],
             [
              0.5555555555555556,
              "#d8576b"
             ],
             [
              0.6666666666666666,
              "#ed7953"
             ],
             [
              0.7777777777777778,
              "#fb9f3a"
             ],
             [
              0.8888888888888888,
              "#fdca26"
             ],
             [
              1,
              "#f0f921"
             ]
            ],
            "type": "heatmapgl"
           }
          ],
          "histogram": [
           {
            "marker": {
             "pattern": {
              "fillmode": "overlay",
              "size": 10,
              "solidity": 0.2
             }
            },
            "type": "histogram"
           }
          ],
          "histogram2d": [
           {
            "colorbar": {
             "outlinewidth": 0,
             "ticks": ""
            },
            "colorscale": [
             [
              0,
              "#0d0887"
             ],
             [
              0.1111111111111111,
              "#46039f"
             ],
             [
              0.2222222222222222,
              "#7201a8"
             ],
             [
              0.3333333333333333,
              "#9c179e"
             ],
             [
              0.4444444444444444,
              "#bd3786"
             ],
             [
              0.5555555555555556,
              "#d8576b"
             ],
             [
              0.6666666666666666,
              "#ed7953"
             ],
             [
              0.7777777777777778,
              "#fb9f3a"
             ],
             [
              0.8888888888888888,
              "#fdca26"
             ],
             [
              1,
              "#f0f921"
             ]
            ],
            "type": "histogram2d"
           }
          ],
          "histogram2dcontour": [
           {
            "colorbar": {
             "outlinewidth": 0,
             "ticks": ""
            },
            "colorscale": [
             [
              0,
              "#0d0887"
             ],
             [
              0.1111111111111111,
              "#46039f"
             ],
             [
              0.2222222222222222,
              "#7201a8"
             ],
             [
              0.3333333333333333,
              "#9c179e"
             ],
             [
              0.4444444444444444,
              "#bd3786"
             ],
             [
              0.5555555555555556,
              "#d8576b"
             ],
             [
              0.6666666666666666,
              "#ed7953"
             ],
             [
              0.7777777777777778,
              "#fb9f3a"
             ],
             [
              0.8888888888888888,
              "#fdca26"
             ],
             [
              1,
              "#f0f921"
             ]
            ],
            "type": "histogram2dcontour"
           }
          ],
          "mesh3d": [
           {
            "colorbar": {
             "outlinewidth": 0,
             "ticks": ""
            },
            "type": "mesh3d"
           }
          ],
          "parcoords": [
           {
            "line": {
             "colorbar": {
              "outlinewidth": 0,
              "ticks": ""
             }
            },
            "type": "parcoords"
           }
          ],
          "pie": [
           {
            "automargin": true,
            "type": "pie"
           }
          ],
          "scatter": [
           {
            "fillpattern": {
             "fillmode": "overlay",
             "size": 10,
             "solidity": 0.2
            },
            "type": "scatter"
           }
          ],
          "scatter3d": [
           {
            "line": {
             "colorbar": {
              "outlinewidth": 0,
              "ticks": ""
             }
            },
            "marker": {
             "colorbar": {
              "outlinewidth": 0,
              "ticks": ""
             }
            },
            "type": "scatter3d"
           }
          ],
          "scattercarpet": [
           {
            "marker": {
             "colorbar": {
              "outlinewidth": 0,
              "ticks": ""
             }
            },
            "type": "scattercarpet"
           }
          ],
          "scattergeo": [
           {
            "marker": {
             "colorbar": {
              "outlinewidth": 0,
              "ticks": ""
             }
            },
            "type": "scattergeo"
           }
          ],
          "scattergl": [
           {
            "marker": {
             "colorbar": {
              "outlinewidth": 0,
              "ticks": ""
             }
            },
            "type": "scattergl"
           }
          ],
          "scattermapbox": [
           {
            "marker": {
             "colorbar": {
              "outlinewidth": 0,
              "ticks": ""
             }
            },
            "type": "scattermapbox"
           }
          ],
          "scatterpolar": [
           {
            "marker": {
             "colorbar": {
              "outlinewidth": 0,
              "ticks": ""
             }
            },
            "type": "scatterpolar"
           }
          ],
          "scatterpolargl": [
           {
            "marker": {
             "colorbar": {
              "outlinewidth": 0,
              "ticks": ""
             }
            },
            "type": "scatterpolargl"
           }
          ],
          "scatterternary": [
           {
            "marker": {
             "colorbar": {
              "outlinewidth": 0,
              "ticks": ""
             }
            },
            "type": "scatterternary"
           }
          ],
          "surface": [
           {
            "colorbar": {
             "outlinewidth": 0,
             "ticks": ""
            },
            "colorscale": [
             [
              0,
              "#0d0887"
             ],
             [
              0.1111111111111111,
              "#46039f"
             ],
             [
              0.2222222222222222,
              "#7201a8"
             ],
             [
              0.3333333333333333,
              "#9c179e"
             ],
             [
              0.4444444444444444,
              "#bd3786"
             ],
             [
              0.5555555555555556,
              "#d8576b"
             ],
             [
              0.6666666666666666,
              "#ed7953"
             ],
             [
              0.7777777777777778,
              "#fb9f3a"
             ],
             [
              0.8888888888888888,
              "#fdca26"
             ],
             [
              1,
              "#f0f921"
             ]
            ],
            "type": "surface"
           }
          ],
          "table": [
           {
            "cells": {
             "fill": {
              "color": "#EBF0F8"
             },
             "line": {
              "color": "white"
             }
            },
            "header": {
             "fill": {
              "color": "#C8D4E3"
             },
             "line": {
              "color": "white"
             }
            },
            "type": "table"
           }
          ]
         },
         "layout": {
          "annotationdefaults": {
           "arrowcolor": "#2a3f5f",
           "arrowhead": 0,
           "arrowwidth": 1
          },
          "autotypenumbers": "strict",
          "coloraxis": {
           "colorbar": {
            "outlinewidth": 0,
            "ticks": ""
           }
          },
          "colorscale": {
           "diverging": [
            [
             0,
             "#8e0152"
            ],
            [
             0.1,
             "#c51b7d"
            ],
            [
             0.2,
             "#de77ae"
            ],
            [
             0.3,
             "#f1b6da"
            ],
            [
             0.4,
             "#fde0ef"
            ],
            [
             0.5,
             "#f7f7f7"
            ],
            [
             0.6,
             "#e6f5d0"
            ],
            [
             0.7,
             "#b8e186"
            ],
            [
             0.8,
             "#7fbc41"
            ],
            [
             0.9,
             "#4d9221"
            ],
            [
             1,
             "#276419"
            ]
           ],
           "sequential": [
            [
             0,
             "#0d0887"
            ],
            [
             0.1111111111111111,
             "#46039f"
            ],
            [
             0.2222222222222222,
             "#7201a8"
            ],
            [
             0.3333333333333333,
             "#9c179e"
            ],
            [
             0.4444444444444444,
             "#bd3786"
            ],
            [
             0.5555555555555556,
             "#d8576b"
            ],
            [
             0.6666666666666666,
             "#ed7953"
            ],
            [
             0.7777777777777778,
             "#fb9f3a"
            ],
            [
             0.8888888888888888,
             "#fdca26"
            ],
            [
             1,
             "#f0f921"
            ]
           ],
           "sequentialminus": [
            [
             0,
             "#0d0887"
            ],
            [
             0.1111111111111111,
             "#46039f"
            ],
            [
             0.2222222222222222,
             "#7201a8"
            ],
            [
             0.3333333333333333,
             "#9c179e"
            ],
            [
             0.4444444444444444,
             "#bd3786"
            ],
            [
             0.5555555555555556,
             "#d8576b"
            ],
            [
             0.6666666666666666,
             "#ed7953"
            ],
            [
             0.7777777777777778,
             "#fb9f3a"
            ],
            [
             0.8888888888888888,
             "#fdca26"
            ],
            [
             1,
             "#f0f921"
            ]
           ]
          },
          "colorway": [
           "#636efa",
           "#EF553B",
           "#00cc96",
           "#ab63fa",
           "#FFA15A",
           "#19d3f3",
           "#FF6692",
           "#B6E880",
           "#FF97FF",
           "#FECB52"
          ],
          "font": {
           "color": "#2a3f5f"
          },
          "geo": {
           "bgcolor": "white",
           "lakecolor": "white",
           "landcolor": "#E5ECF6",
           "showlakes": true,
           "showland": true,
           "subunitcolor": "white"
          },
          "hoverlabel": {
           "align": "left"
          },
          "hovermode": "closest",
          "mapbox": {
           "style": "light"
          },
          "paper_bgcolor": "white",
          "plot_bgcolor": "#E5ECF6",
          "polar": {
           "angularaxis": {
            "gridcolor": "white",
            "linecolor": "white",
            "ticks": ""
           },
           "bgcolor": "#E5ECF6",
           "radialaxis": {
            "gridcolor": "white",
            "linecolor": "white",
            "ticks": ""
           }
          },
          "scene": {
           "xaxis": {
            "backgroundcolor": "#E5ECF6",
            "gridcolor": "white",
            "gridwidth": 2,
            "linecolor": "white",
            "showbackground": true,
            "ticks": "",
            "zerolinecolor": "white"
           },
           "yaxis": {
            "backgroundcolor": "#E5ECF6",
            "gridcolor": "white",
            "gridwidth": 2,
            "linecolor": "white",
            "showbackground": true,
            "ticks": "",
            "zerolinecolor": "white"
           },
           "zaxis": {
            "backgroundcolor": "#E5ECF6",
            "gridcolor": "white",
            "gridwidth": 2,
            "linecolor": "white",
            "showbackground": true,
            "ticks": "",
            "zerolinecolor": "white"
           }
          },
          "shapedefaults": {
           "line": {
            "color": "#2a3f5f"
           }
          },
          "ternary": {
           "aaxis": {
            "gridcolor": "white",
            "linecolor": "white",
            "ticks": ""
           },
           "baxis": {
            "gridcolor": "white",
            "linecolor": "white",
            "ticks": ""
           },
           "bgcolor": "#E5ECF6",
           "caxis": {
            "gridcolor": "white",
            "linecolor": "white",
            "ticks": ""
           }
          },
          "title": {
           "x": 0.05
          },
          "xaxis": {
           "automargin": true,
           "gridcolor": "white",
           "linecolor": "white",
           "ticks": "",
           "title": {
            "standoff": 15
           },
           "zerolinecolor": "white",
           "zerolinewidth": 2
          },
          "yaxis": {
           "automargin": true,
           "gridcolor": "white",
           "linecolor": "white",
           "ticks": "",
           "title": {
            "standoff": 15
           },
           "zerolinecolor": "white",
           "zerolinewidth": 2
          }
         }
        }
       }
      }
     },
     "metadata": {},
     "output_type": "display_data"
    }
   ],
   "source": [
    "import plotly.express as px\n",
    "\n",
    "px.scatter_3d(df, x = 'RED', y = 'GREEN', z = 'BLUE', opacity = 0.5)"
   ]
  },
  {
   "cell_type": "code",
   "execution_count": 4,
   "metadata": {},
   "outputs": [],
   "source": [
    "import numpy as np\n",
    "dataset = np.genfromtxt('dataV2.csv', delimiter=',', skip_header = True, usecols=(1, 2, 3, 4))\n",
    "dataset[:, 0:3] = (dataset[:, 0:3])/255"
   ]
  },
  {
   "cell_type": "code",
   "execution_count": 5,
   "metadata": {},
   "outputs": [
    {
     "name": "stdout",
     "output_type": "stream",
     "text": [
      "[[0.         0.         0.        ]\n",
      " [1.         1.         1.        ]\n",
      " [0.34509804 0.84313725 0.07843137]\n",
      " [0.20784314 0.45098039 0.04705882]\n",
      " [0.69411765 0.86666667 0.43137255]\n",
      " [0.28627451 0.36078431 0.65490196]\n",
      " [0.29803922 0.78431373 0.6627451 ]\n",
      " [0.1254902  0.57647059 0.0627451 ]\n",
      " [0.61176471 0.13333333 0.70588235]\n",
      " [0.83529412 0.57254902 0.89019608]\n",
      " [0.84313725 0.91764706 0.68235294]\n",
      " [0.8745098  0.34509804 0.73333333]\n",
      " [0.48235294 0.13333333 0.66666667]\n",
      " [0.31764706 0.76470588 0.82352941]\n",
      " [0.01568627 0.60392157 0.48627451]\n",
      " [0.80784314 0.78823529 0.10980392]\n",
      " [0.58431373 0.57647059 0.3372549 ]\n",
      " [1.         0.         0.        ]] \n",
      "\n",
      "[1. 0. 0. 1. 0. 1. 0. 1. 1. 0. 0. 1. 1. 0. 1. 0. 1. 1.]\n"
     ]
    }
   ],
   "source": [
    "print(dataset[:, 0:3], \"\\n\")\n",
    "print((dataset[:, 3]))"
   ]
  },
  {
   "cell_type": "code",
   "execution_count": 6,
   "metadata": {},
   "outputs": [
    {
     "name": "stdout",
     "output_type": "stream",
     "text": [
      "Epoch 1/350\n",
      "1/1 [==============================] - 1s 1s/step - loss: 2.0738\n",
      "Epoch 2/350\n",
      "1/1 [==============================] - 0s 3ms/step - loss: 2.0128\n",
      "Epoch 3/350\n",
      "1/1 [==============================] - 0s 3ms/step - loss: 1.9533\n",
      "Epoch 4/350\n",
      "1/1 [==============================] - 0s 3ms/step - loss: 1.8952\n",
      "Epoch 5/350\n",
      "1/1 [==============================] - 0s 4ms/step - loss: 1.8385\n",
      "Epoch 6/350\n",
      "1/1 [==============================] - 0s 4ms/step - loss: 1.7834\n",
      "Epoch 7/350\n",
      "1/1 [==============================] - 0s 4ms/step - loss: 1.7297\n",
      "Epoch 8/350\n",
      "1/1 [==============================] - 0s 4ms/step - loss: 1.6775\n",
      "Epoch 9/350\n",
      "1/1 [==============================] - 0s 4ms/step - loss: 1.6268\n",
      "Epoch 10/350\n",
      "1/1 [==============================] - 0s 4ms/step - loss: 1.5776\n",
      "Epoch 11/350\n",
      "1/1 [==============================] - 0s 4ms/step - loss: 1.5300\n",
      "Epoch 12/350\n",
      "1/1 [==============================] - 0s 4ms/step - loss: 1.4839\n",
      "Epoch 13/350\n",
      "1/1 [==============================] - 0s 4ms/step - loss: 1.4394\n",
      "Epoch 14/350\n",
      "1/1 [==============================] - 0s 4ms/step - loss: 1.3964\n",
      "Epoch 15/350\n",
      "1/1 [==============================] - 0s 3ms/step - loss: 1.3550\n",
      "Epoch 16/350\n",
      "1/1 [==============================] - 0s 3ms/step - loss: 1.3151\n",
      "Epoch 17/350\n",
      "1/1 [==============================] - 0s 4ms/step - loss: 1.2767\n",
      "Epoch 18/350\n",
      "1/1 [==============================] - 0s 4ms/step - loss: 1.2399\n",
      "Epoch 19/350\n",
      "1/1 [==============================] - 0s 3ms/step - loss: 1.2046\n",
      "Epoch 20/350\n",
      "1/1 [==============================] - 0s 3ms/step - loss: 1.1707\n",
      "Epoch 21/350\n",
      "1/1 [==============================] - 0s 3ms/step - loss: 1.1384\n",
      "Epoch 22/350\n",
      "1/1 [==============================] - 0s 3ms/step - loss: 1.1075\n",
      "Epoch 23/350\n",
      "1/1 [==============================] - 0s 4ms/step - loss: 1.0780\n",
      "Epoch 24/350\n",
      "1/1 [==============================] - 0s 3ms/step - loss: 1.0499\n",
      "Epoch 25/350\n",
      "1/1 [==============================] - 0s 3ms/step - loss: 1.0233\n",
      "Epoch 26/350\n",
      "1/1 [==============================] - 0s 4ms/step - loss: 0.9979\n",
      "Epoch 27/350\n",
      "1/1 [==============================] - 0s 3ms/step - loss: 0.9739\n",
      "Epoch 28/350\n",
      "1/1 [==============================] - 0s 2ms/step - loss: 0.9512\n",
      "Epoch 29/350\n",
      "1/1 [==============================] - 0s 5ms/step - loss: 0.9297\n",
      "Epoch 30/350\n",
      "1/1 [==============================] - 0s 3ms/step - loss: 0.9094\n",
      "Epoch 31/350\n",
      "1/1 [==============================] - 0s 4ms/step - loss: 0.8903\n",
      "Epoch 32/350\n",
      "1/1 [==============================] - 0s 3ms/step - loss: 0.8723\n",
      "Epoch 33/350\n",
      "1/1 [==============================] - 0s 4ms/step - loss: 0.8554\n",
      "Epoch 34/350\n",
      "1/1 [==============================] - 0s 3ms/step - loss: 0.8396\n",
      "Epoch 35/350\n",
      "1/1 [==============================] - 0s 4ms/step - loss: 0.8247\n",
      "Epoch 36/350\n",
      "1/1 [==============================] - 0s 5ms/step - loss: 0.8109\n",
      "Epoch 37/350\n",
      "1/1 [==============================] - 0s 5ms/step - loss: 0.7979\n",
      "Epoch 38/350\n",
      "1/1 [==============================] - 0s 6ms/step - loss: 0.7858\n",
      "Epoch 39/350\n",
      "1/1 [==============================] - 0s 3ms/step - loss: 0.7745\n",
      "Epoch 40/350\n",
      "1/1 [==============================] - 0s 3ms/step - loss: 0.7640\n",
      "Epoch 41/350\n",
      "1/1 [==============================] - 0s 4ms/step - loss: 0.7543\n",
      "Epoch 42/350\n",
      "1/1 [==============================] - 0s 3ms/step - loss: 0.7452\n",
      "Epoch 43/350\n",
      "1/1 [==============================] - 0s 4ms/step - loss: 0.7368\n",
      "Epoch 44/350\n",
      "1/1 [==============================] - 0s 4ms/step - loss: 0.7290\n",
      "Epoch 45/350\n",
      "1/1 [==============================] - 0s 3ms/step - loss: 0.7217\n",
      "Epoch 46/350\n",
      "1/1 [==============================] - 0s 4ms/step - loss: 0.7150\n",
      "Epoch 47/350\n",
      "1/1 [==============================] - 0s 3ms/step - loss: 0.7088\n",
      "Epoch 48/350\n",
      "1/1 [==============================] - 0s 4ms/step - loss: 0.7030\n",
      "Epoch 49/350\n",
      "1/1 [==============================] - 0s 4ms/step - loss: 0.6976\n",
      "Epoch 50/350\n",
      "1/1 [==============================] - 0s 5ms/step - loss: 0.6926\n",
      "Epoch 51/350\n",
      "1/1 [==============================] - 0s 4ms/step - loss: 0.6880\n",
      "Epoch 52/350\n",
      "1/1 [==============================] - 0s 3ms/step - loss: 0.6836\n",
      "Epoch 53/350\n",
      "1/1 [==============================] - 0s 3ms/step - loss: 0.6796\n",
      "Epoch 54/350\n",
      "1/1 [==============================] - 0s 4ms/step - loss: 0.6758\n",
      "Epoch 55/350\n",
      "1/1 [==============================] - 0s 3ms/step - loss: 0.6722\n",
      "Epoch 56/350\n",
      "1/1 [==============================] - 0s 4ms/step - loss: 0.6688\n",
      "Epoch 57/350\n",
      "1/1 [==============================] - 0s 4ms/step - loss: 0.6657\n",
      "Epoch 58/350\n",
      "1/1 [==============================] - 0s 4ms/step - loss: 0.6626\n",
      "Epoch 59/350\n",
      "1/1 [==============================] - 0s 3ms/step - loss: 0.6598\n",
      "Epoch 60/350\n",
      "1/1 [==============================] - 0s 3ms/step - loss: 0.6570\n",
      "Epoch 61/350\n",
      "1/1 [==============================] - 0s 4ms/step - loss: 0.6543\n",
      "Epoch 62/350\n",
      "1/1 [==============================] - 0s 4ms/step - loss: 0.6518\n",
      "Epoch 63/350\n",
      "1/1 [==============================] - 0s 4ms/step - loss: 0.6493\n",
      "Epoch 64/350\n",
      "1/1 [==============================] - 0s 3ms/step - loss: 0.6469\n",
      "Epoch 65/350\n",
      "1/1 [==============================] - 0s 4ms/step - loss: 0.6445\n",
      "Epoch 66/350\n",
      "1/1 [==============================] - 0s 3ms/step - loss: 0.6422\n",
      "Epoch 67/350\n",
      "1/1 [==============================] - 0s 4ms/step - loss: 0.6399\n",
      "Epoch 68/350\n",
      "1/1 [==============================] - 0s 3ms/step - loss: 0.6376\n",
      "Epoch 69/350\n",
      "1/1 [==============================] - 0s 4ms/step - loss: 0.6354\n",
      "Epoch 70/350\n",
      "1/1 [==============================] - 0s 5ms/step - loss: 0.6332\n",
      "Epoch 71/350\n",
      "1/1 [==============================] - 0s 4ms/step - loss: 0.6309\n",
      "Epoch 72/350\n",
      "1/1 [==============================] - 0s 3ms/step - loss: 0.6287\n",
      "Epoch 73/350\n",
      "1/1 [==============================] - 0s 3ms/step - loss: 0.6265\n",
      "Epoch 74/350\n",
      "1/1 [==============================] - 0s 5ms/step - loss: 0.6243\n",
      "Epoch 75/350\n",
      "1/1 [==============================] - 0s 4ms/step - loss: 0.6221\n",
      "Epoch 76/350\n",
      "1/1 [==============================] - 0s 3ms/step - loss: 0.6199\n",
      "Epoch 77/350\n",
      "1/1 [==============================] - 0s 4ms/step - loss: 0.6177\n",
      "Epoch 78/350\n",
      "1/1 [==============================] - 0s 3ms/step - loss: 0.6155\n",
      "Epoch 79/350\n",
      "1/1 [==============================] - 0s 3ms/step - loss: 0.6133\n",
      "Epoch 80/350\n",
      "1/1 [==============================] - 0s 3ms/step - loss: 0.6110\n",
      "Epoch 81/350\n",
      "1/1 [==============================] - 0s 3ms/step - loss: 0.6088\n",
      "Epoch 82/350\n",
      "1/1 [==============================] - 0s 5ms/step - loss: 0.6065\n",
      "Epoch 83/350\n",
      "1/1 [==============================] - 0s 3ms/step - loss: 0.6043\n",
      "Epoch 84/350\n",
      "1/1 [==============================] - 0s 4ms/step - loss: 0.6020\n",
      "Epoch 85/350\n",
      "1/1 [==============================] - 0s 4ms/step - loss: 0.5998\n",
      "Epoch 86/350\n",
      "1/1 [==============================] - 0s 4ms/step - loss: 0.5975\n",
      "Epoch 87/350\n",
      "1/1 [==============================] - 0s 3ms/step - loss: 0.5952\n",
      "Epoch 88/350\n",
      "1/1 [==============================] - 0s 3ms/step - loss: 0.5929\n",
      "Epoch 89/350\n",
      "1/1 [==============================] - 0s 3ms/step - loss: 0.5906\n",
      "Epoch 90/350\n",
      "1/1 [==============================] - 0s 3ms/step - loss: 0.5883\n",
      "Epoch 91/350\n",
      "1/1 [==============================] - 0s 4ms/step - loss: 0.5861\n",
      "Epoch 92/350\n",
      "1/1 [==============================] - 0s 3ms/step - loss: 0.5838\n",
      "Epoch 93/350\n",
      "1/1 [==============================] - 0s 5ms/step - loss: 0.5815\n",
      "Epoch 94/350\n",
      "1/1 [==============================] - 0s 3ms/step - loss: 0.5792\n",
      "Epoch 95/350\n",
      "1/1 [==============================] - 0s 3ms/step - loss: 0.5769\n",
      "Epoch 96/350\n",
      "1/1 [==============================] - 0s 5ms/step - loss: 0.5746\n",
      "Epoch 97/350\n",
      "1/1 [==============================] - 0s 3ms/step - loss: 0.5723\n",
      "Epoch 98/350\n",
      "1/1 [==============================] - 0s 3ms/step - loss: 0.5700\n",
      "Epoch 99/350\n",
      "1/1 [==============================] - 0s 3ms/step - loss: 0.5677\n",
      "Epoch 100/350\n",
      "1/1 [==============================] - 0s 3ms/step - loss: 0.5654\n",
      "Epoch 101/350\n",
      "1/1 [==============================] - 0s 3ms/step - loss: 0.5631\n",
      "Epoch 102/350\n",
      "1/1 [==============================] - 0s 4ms/step - loss: 0.5608\n",
      "Epoch 103/350\n",
      "1/1 [==============================] - 0s 3ms/step - loss: 0.5585\n",
      "Epoch 104/350\n",
      "1/1 [==============================] - 0s 3ms/step - loss: 0.5562\n",
      "Epoch 105/350\n",
      "1/1 [==============================] - 0s 3ms/step - loss: 0.5539\n",
      "Epoch 106/350\n",
      "1/1 [==============================] - 0s 4ms/step - loss: 0.5516\n",
      "Epoch 107/350\n",
      "1/1 [==============================] - 0s 5ms/step - loss: 0.5493\n",
      "Epoch 108/350\n",
      "1/1 [==============================] - 0s 3ms/step - loss: 0.5470\n",
      "Epoch 109/350\n",
      "1/1 [==============================] - 0s 3ms/step - loss: 0.5447\n",
      "Epoch 110/350\n",
      "1/1 [==============================] - 0s 4ms/step - loss: 0.5424\n",
      "Epoch 111/350\n",
      "1/1 [==============================] - 0s 3ms/step - loss: 0.5402\n",
      "Epoch 112/350\n",
      "1/1 [==============================] - 0s 4ms/step - loss: 0.5379\n",
      "Epoch 113/350\n",
      "1/1 [==============================] - 0s 4ms/step - loss: 0.5356\n",
      "Epoch 114/350\n",
      "1/1 [==============================] - 0s 4ms/step - loss: 0.5333\n",
      "Epoch 115/350\n",
      "1/1 [==============================] - 0s 3ms/step - loss: 0.5311\n",
      "Epoch 116/350\n",
      "1/1 [==============================] - 0s 3ms/step - loss: 0.5288\n",
      "Epoch 117/350\n",
      "1/1 [==============================] - 0s 4ms/step - loss: 0.5265\n",
      "Epoch 118/350\n",
      "1/1 [==============================] - 0s 3ms/step - loss: 0.5243\n",
      "Epoch 119/350\n",
      "1/1 [==============================] - 0s 3ms/step - loss: 0.5220\n",
      "Epoch 120/350\n",
      "1/1 [==============================] - 0s 3ms/step - loss: 0.5198\n",
      "Epoch 121/350\n",
      "1/1 [==============================] - 0s 3ms/step - loss: 0.5175\n",
      "Epoch 122/350\n",
      "1/1 [==============================] - 0s 3ms/step - loss: 0.5153\n",
      "Epoch 123/350\n",
      "1/1 [==============================] - 0s 3ms/step - loss: 0.5130\n",
      "Epoch 124/350\n",
      "1/1 [==============================] - 0s 2ms/step - loss: 0.5108\n",
      "Epoch 125/350\n",
      "1/1 [==============================] - 0s 3ms/step - loss: 0.5086\n",
      "Epoch 126/350\n",
      "1/1 [==============================] - 0s 3ms/step - loss: 0.5063\n",
      "Epoch 127/350\n",
      "1/1 [==============================] - 0s 3ms/step - loss: 0.5041\n",
      "Epoch 128/350\n",
      "1/1 [==============================] - 0s 3ms/step - loss: 0.5019\n",
      "Epoch 129/350\n",
      "1/1 [==============================] - 0s 3ms/step - loss: 0.4996\n",
      "Epoch 130/350\n",
      "1/1 [==============================] - 0s 3ms/step - loss: 0.4974\n",
      "Epoch 131/350\n",
      "1/1 [==============================] - 0s 3ms/step - loss: 0.4952\n",
      "Epoch 132/350\n",
      "1/1 [==============================] - 0s 3ms/step - loss: 0.4930\n",
      "Epoch 133/350\n",
      "1/1 [==============================] - 0s 6ms/step - loss: 0.4908\n",
      "Epoch 134/350\n",
      "1/1 [==============================] - 0s 3ms/step - loss: 0.4886\n",
      "Epoch 135/350\n",
      "1/1 [==============================] - 0s 3ms/step - loss: 0.4864\n",
      "Epoch 136/350\n",
      "1/1 [==============================] - 0s 4ms/step - loss: 0.4842\n",
      "Epoch 137/350\n",
      "1/1 [==============================] - 0s 3ms/step - loss: 0.4820\n",
      "Epoch 138/350\n",
      "1/1 [==============================] - 0s 3ms/step - loss: 0.4798\n",
      "Epoch 139/350\n",
      "1/1 [==============================] - 0s 4ms/step - loss: 0.4777\n",
      "Epoch 140/350\n",
      "1/1 [==============================] - 0s 5ms/step - loss: 0.4755\n",
      "Epoch 141/350\n",
      "1/1 [==============================] - 0s 4ms/step - loss: 0.4733\n",
      "Epoch 142/350\n",
      "1/1 [==============================] - 0s 5ms/step - loss: 0.4712\n",
      "Epoch 143/350\n",
      "1/1 [==============================] - 0s 4ms/step - loss: 0.4690\n",
      "Epoch 144/350\n",
      "1/1 [==============================] - 0s 4ms/step - loss: 0.4668\n",
      "Epoch 145/350\n",
      "1/1 [==============================] - 0s 3ms/step - loss: 0.4647\n",
      "Epoch 146/350\n",
      "1/1 [==============================] - 0s 3ms/step - loss: 0.4626\n",
      "Epoch 147/350\n",
      "1/1 [==============================] - 0s 4ms/step - loss: 0.4604\n",
      "Epoch 148/350\n",
      "1/1 [==============================] - 0s 4ms/step - loss: 0.4583\n",
      "Epoch 149/350\n",
      "1/1 [==============================] - 0s 4ms/step - loss: 0.4562\n",
      "Epoch 150/350\n",
      "1/1 [==============================] - 0s 3ms/step - loss: 0.4540\n",
      "Epoch 151/350\n",
      "1/1 [==============================] - 0s 5ms/step - loss: 0.4519\n",
      "Epoch 152/350\n",
      "1/1 [==============================] - 0s 7ms/step - loss: 0.4498\n",
      "Epoch 153/350\n",
      "1/1 [==============================] - 0s 5ms/step - loss: 0.4477\n",
      "Epoch 154/350\n",
      "1/1 [==============================] - 0s 6ms/step - loss: 0.4456\n",
      "Epoch 155/350\n",
      "1/1 [==============================] - 0s 3ms/step - loss: 0.4435\n",
      "Epoch 156/350\n",
      "1/1 [==============================] - 0s 3ms/step - loss: 0.4414\n",
      "Epoch 157/350\n",
      "1/1 [==============================] - 0s 4ms/step - loss: 0.4394\n",
      "Epoch 158/350\n",
      "1/1 [==============================] - 0s 5ms/step - loss: 0.4373\n",
      "Epoch 159/350\n",
      "1/1 [==============================] - 0s 6ms/step - loss: 0.4352\n",
      "Epoch 160/350\n",
      "1/1 [==============================] - 0s 3ms/step - loss: 0.4332\n",
      "Epoch 161/350\n",
      "1/1 [==============================] - 0s 3ms/step - loss: 0.4311\n",
      "Epoch 162/350\n",
      "1/1 [==============================] - 0s 3ms/step - loss: 0.4291\n",
      "Epoch 163/350\n",
      "1/1 [==============================] - 0s 6ms/step - loss: 0.4270\n",
      "Epoch 164/350\n",
      "1/1 [==============================] - 0s 4ms/step - loss: 0.4250\n",
      "Epoch 165/350\n",
      "1/1 [==============================] - 0s 4ms/step - loss: 0.4229\n",
      "Epoch 166/350\n",
      "1/1 [==============================] - 0s 3ms/step - loss: 0.4209\n",
      "Epoch 167/350\n",
      "1/1 [==============================] - 0s 4ms/step - loss: 0.4189\n",
      "Epoch 168/350\n",
      "1/1 [==============================] - 0s 5ms/step - loss: 0.4169\n",
      "Epoch 169/350\n",
      "1/1 [==============================] - 0s 4ms/step - loss: 0.4149\n",
      "Epoch 170/350\n",
      "1/1 [==============================] - 0s 4ms/step - loss: 0.4129\n",
      "Epoch 171/350\n",
      "1/1 [==============================] - 0s 4ms/step - loss: 0.4109\n",
      "Epoch 172/350\n",
      "1/1 [==============================] - 0s 3ms/step - loss: 0.4089\n",
      "Epoch 173/350\n",
      "1/1 [==============================] - 0s 3ms/step - loss: 0.4069\n",
      "Epoch 174/350\n",
      "1/1 [==============================] - 0s 3ms/step - loss: 0.4050\n",
      "Epoch 175/350\n",
      "1/1 [==============================] - 0s 5ms/step - loss: 0.4030\n",
      "Epoch 176/350\n",
      "1/1 [==============================] - 0s 3ms/step - loss: 0.4011\n",
      "Epoch 177/350\n",
      "1/1 [==============================] - 0s 5ms/step - loss: 0.3991\n",
      "Epoch 178/350\n",
      "1/1 [==============================] - 0s 3ms/step - loss: 0.3972\n",
      "Epoch 179/350\n",
      "1/1 [==============================] - 0s 4ms/step - loss: 0.3952\n",
      "Epoch 180/350\n",
      "1/1 [==============================] - 0s 4ms/step - loss: 0.3933\n",
      "Epoch 181/350\n",
      "1/1 [==============================] - 0s 3ms/step - loss: 0.3914\n",
      "Epoch 182/350\n",
      "1/1 [==============================] - 0s 4ms/step - loss: 0.3895\n",
      "Epoch 183/350\n",
      "1/1 [==============================] - 0s 4ms/step - loss: 0.3876\n",
      "Epoch 184/350\n",
      "1/1 [==============================] - 0s 5ms/step - loss: 0.3857\n",
      "Epoch 185/350\n",
      "1/1 [==============================] - 0s 3ms/step - loss: 0.3838\n",
      "Epoch 186/350\n",
      "1/1 [==============================] - 0s 4ms/step - loss: 0.3819\n",
      "Epoch 187/350\n",
      "1/1 [==============================] - 0s 3ms/step - loss: 0.3800\n",
      "Epoch 188/350\n",
      "1/1 [==============================] - 0s 4ms/step - loss: 0.3781\n",
      "Epoch 189/350\n",
      "1/1 [==============================] - 0s 4ms/step - loss: 0.3763\n",
      "Epoch 190/350\n",
      "1/1 [==============================] - 0s 4ms/step - loss: 0.3744\n",
      "Epoch 191/350\n",
      "1/1 [==============================] - 0s 4ms/step - loss: 0.3726\n",
      "Epoch 192/350\n",
      "1/1 [==============================] - 0s 4ms/step - loss: 0.3707\n",
      "Epoch 193/350\n",
      "1/1 [==============================] - 0s 5ms/step - loss: 0.3689\n",
      "Epoch 194/350\n",
      "1/1 [==============================] - 0s 3ms/step - loss: 0.3671\n",
      "Epoch 195/350\n",
      "1/1 [==============================] - 0s 3ms/step - loss: 0.3652\n",
      "Epoch 196/350\n",
      "1/1 [==============================] - 0s 4ms/step - loss: 0.3634\n",
      "Epoch 197/350\n",
      "1/1 [==============================] - 0s 5ms/step - loss: 0.3616\n",
      "Epoch 198/350\n",
      "1/1 [==============================] - 0s 3ms/step - loss: 0.3598\n",
      "Epoch 199/350\n",
      "1/1 [==============================] - 0s 3ms/step - loss: 0.3580\n",
      "Epoch 200/350\n",
      "1/1 [==============================] - 0s 3ms/step - loss: 0.3563\n",
      "Epoch 201/350\n",
      "1/1 [==============================] - 0s 4ms/step - loss: 0.3545\n",
      "Epoch 202/350\n",
      "1/1 [==============================] - 0s 3ms/step - loss: 0.3527\n",
      "Epoch 203/350\n",
      "1/1 [==============================] - 0s 3ms/step - loss: 0.3509\n",
      "Epoch 204/350\n",
      "1/1 [==============================] - 0s 4ms/step - loss: 0.3492\n",
      "Epoch 205/350\n",
      "1/1 [==============================] - 0s 3ms/step - loss: 0.3474\n",
      "Epoch 206/350\n",
      "1/1 [==============================] - 0s 3ms/step - loss: 0.3457\n",
      "Epoch 207/350\n",
      "1/1 [==============================] - 0s 4ms/step - loss: 0.3440\n",
      "Epoch 208/350\n",
      "1/1 [==============================] - 0s 4ms/step - loss: 0.3423\n",
      "Epoch 209/350\n",
      "1/1 [==============================] - 0s 3ms/step - loss: 0.3405\n",
      "Epoch 210/350\n",
      "1/1 [==============================] - 0s 4ms/step - loss: 0.3388\n",
      "Epoch 211/350\n",
      "1/1 [==============================] - 0s 4ms/step - loss: 0.3371\n",
      "Epoch 212/350\n",
      "1/1 [==============================] - 0s 4ms/step - loss: 0.3354\n",
      "Epoch 213/350\n",
      "1/1 [==============================] - 0s 3ms/step - loss: 0.3338\n",
      "Epoch 214/350\n",
      "1/1 [==============================] - 0s 4ms/step - loss: 0.3321\n",
      "Epoch 215/350\n",
      "1/1 [==============================] - 0s 3ms/step - loss: 0.3304\n",
      "Epoch 216/350\n",
      "1/1 [==============================] - 0s 3ms/step - loss: 0.3287\n",
      "Epoch 217/350\n",
      "1/1 [==============================] - 0s 4ms/step - loss: 0.3271\n",
      "Epoch 218/350\n",
      "1/1 [==============================] - 0s 5ms/step - loss: 0.3254\n",
      "Epoch 219/350\n",
      "1/1 [==============================] - 0s 4ms/step - loss: 0.3238\n",
      "Epoch 220/350\n",
      "1/1 [==============================] - 0s 3ms/step - loss: 0.3222\n",
      "Epoch 221/350\n",
      "1/1 [==============================] - 0s 4ms/step - loss: 0.3205\n",
      "Epoch 222/350\n",
      "1/1 [==============================] - 0s 3ms/step - loss: 0.3189\n",
      "Epoch 223/350\n",
      "1/1 [==============================] - 0s 4ms/step - loss: 0.3173\n",
      "Epoch 224/350\n",
      "1/1 [==============================] - 0s 3ms/step - loss: 0.3157\n",
      "Epoch 225/350\n",
      "1/1 [==============================] - 0s 3ms/step - loss: 0.3141\n",
      "Epoch 226/350\n",
      "1/1 [==============================] - 0s 3ms/step - loss: 0.3125\n",
      "Epoch 227/350\n",
      "1/1 [==============================] - 0s 3ms/step - loss: 0.3110\n",
      "Epoch 228/350\n",
      "1/1 [==============================] - 0s 4ms/step - loss: 0.3094\n",
      "Epoch 229/350\n",
      "1/1 [==============================] - 0s 3ms/step - loss: 0.3078\n",
      "Epoch 230/350\n",
      "1/1 [==============================] - 0s 4ms/step - loss: 0.3063\n",
      "Epoch 231/350\n",
      "1/1 [==============================] - 0s 4ms/step - loss: 0.3047\n",
      "Epoch 232/350\n",
      "1/1 [==============================] - 0s 3ms/step - loss: 0.3032\n",
      "Epoch 233/350\n",
      "1/1 [==============================] - 0s 3ms/step - loss: 0.3016\n",
      "Epoch 234/350\n",
      "1/1 [==============================] - 0s 3ms/step - loss: 0.3001\n",
      "Epoch 235/350\n",
      "1/1 [==============================] - 0s 3ms/step - loss: 0.2986\n",
      "Epoch 236/350\n",
      "1/1 [==============================] - 0s 4ms/step - loss: 0.2971\n",
      "Epoch 237/350\n",
      "1/1 [==============================] - 0s 3ms/step - loss: 0.2956\n",
      "Epoch 238/350\n",
      "1/1 [==============================] - 0s 4ms/step - loss: 0.2941\n",
      "Epoch 239/350\n",
      "1/1 [==============================] - 0s 3ms/step - loss: 0.2926\n",
      "Epoch 240/350\n",
      "1/1 [==============================] - 0s 5ms/step - loss: 0.2911\n",
      "Epoch 241/350\n",
      "1/1 [==============================] - 0s 4ms/step - loss: 0.2896\n",
      "Epoch 242/350\n",
      "1/1 [==============================] - 0s 4ms/step - loss: 0.2882\n",
      "Epoch 243/350\n",
      "1/1 [==============================] - 0s 4ms/step - loss: 0.2867\n",
      "Epoch 244/350\n",
      "1/1 [==============================] - 0s 3ms/step - loss: 0.2853\n",
      "Epoch 245/350\n",
      "1/1 [==============================] - 0s 4ms/step - loss: 0.2838\n",
      "Epoch 246/350\n",
      "1/1 [==============================] - 0s 3ms/step - loss: 0.2824\n",
      "Epoch 247/350\n",
      "1/1 [==============================] - 0s 4ms/step - loss: 0.2810\n",
      "Epoch 248/350\n",
      "1/1 [==============================] - 0s 4ms/step - loss: 0.2795\n",
      "Epoch 249/350\n",
      "1/1 [==============================] - 0s 3ms/step - loss: 0.2781\n",
      "Epoch 250/350\n",
      "1/1 [==============================] - 0s 3ms/step - loss: 0.2767\n",
      "Epoch 251/350\n",
      "1/1 [==============================] - 0s 4ms/step - loss: 0.2753\n",
      "Epoch 252/350\n",
      "1/1 [==============================] - 0s 4ms/step - loss: 0.2739\n",
      "Epoch 253/350\n",
      "1/1 [==============================] - 0s 5ms/step - loss: 0.2725\n",
      "Epoch 254/350\n",
      "1/1 [==============================] - 0s 4ms/step - loss: 0.2712\n",
      "Epoch 255/350\n",
      "1/1 [==============================] - 0s 4ms/step - loss: 0.2698\n",
      "Epoch 256/350\n",
      "1/1 [==============================] - 0s 5ms/step - loss: 0.2684\n",
      "Epoch 257/350\n",
      "1/1 [==============================] - 0s 4ms/step - loss: 0.2671\n",
      "Epoch 258/350\n",
      "1/1 [==============================] - 0s 5ms/step - loss: 0.2657\n",
      "Epoch 259/350\n",
      "1/1 [==============================] - 0s 4ms/step - loss: 0.2644\n",
      "Epoch 260/350\n",
      "1/1 [==============================] - 0s 3ms/step - loss: 0.2630\n",
      "Epoch 261/350\n",
      "1/1 [==============================] - 0s 4ms/step - loss: 0.2617\n",
      "Epoch 262/350\n",
      "1/1 [==============================] - 0s 4ms/step - loss: 0.2604\n",
      "Epoch 263/350\n",
      "1/1 [==============================] - 0s 3ms/step - loss: 0.2591\n",
      "Epoch 264/350\n",
      "1/1 [==============================] - 0s 4ms/step - loss: 0.2578\n",
      "Epoch 265/350\n",
      "1/1 [==============================] - 0s 4ms/step - loss: 0.2565\n",
      "Epoch 266/350\n",
      "1/1 [==============================] - 0s 4ms/step - loss: 0.2552\n",
      "Epoch 267/350\n",
      "1/1 [==============================] - 0s 4ms/step - loss: 0.2539\n",
      "Epoch 268/350\n",
      "1/1 [==============================] - 0s 3ms/step - loss: 0.2526\n",
      "Epoch 269/350\n",
      "1/1 [==============================] - 0s 4ms/step - loss: 0.2514\n",
      "Epoch 270/350\n",
      "1/1 [==============================] - 0s 4ms/step - loss: 0.2501\n",
      "Epoch 271/350\n",
      "1/1 [==============================] - 0s 4ms/step - loss: 0.2489\n",
      "Epoch 272/350\n",
      "1/1 [==============================] - 0s 4ms/step - loss: 0.2476\n",
      "Epoch 273/350\n",
      "1/1 [==============================] - 0s 4ms/step - loss: 0.2464\n",
      "Epoch 274/350\n",
      "1/1 [==============================] - 0s 5ms/step - loss: 0.2451\n",
      "Epoch 275/350\n",
      "1/1 [==============================] - 0s 4ms/step - loss: 0.2439\n",
      "Epoch 276/350\n",
      "1/1 [==============================] - 0s 4ms/step - loss: 0.2427\n",
      "Epoch 277/350\n",
      "1/1 [==============================] - 0s 3ms/step - loss: 0.2415\n",
      "Epoch 278/350\n",
      "1/1 [==============================] - 0s 3ms/step - loss: 0.2403\n",
      "Epoch 279/350\n",
      "1/1 [==============================] - 0s 5ms/step - loss: 0.2391\n",
      "Epoch 280/350\n",
      "1/1 [==============================] - 0s 4ms/step - loss: 0.2379\n",
      "Epoch 281/350\n",
      "1/1 [==============================] - 0s 4ms/step - loss: 0.2367\n",
      "Epoch 282/350\n",
      "1/1 [==============================] - 0s 4ms/step - loss: 0.2355\n",
      "Epoch 283/350\n",
      "1/1 [==============================] - 0s 3ms/step - loss: 0.2343\n",
      "Epoch 284/350\n",
      "1/1 [==============================] - 0s 4ms/step - loss: 0.2332\n",
      "Epoch 285/350\n",
      "1/1 [==============================] - 0s 4ms/step - loss: 0.2320\n",
      "Epoch 286/350\n",
      "1/1 [==============================] - 0s 4ms/step - loss: 0.2309\n",
      "Epoch 287/350\n",
      "1/1 [==============================] - 0s 3ms/step - loss: 0.2297\n",
      "Epoch 288/350\n",
      "1/1 [==============================] - 0s 5ms/step - loss: 0.2286\n",
      "Epoch 289/350\n",
      "1/1 [==============================] - 0s 3ms/step - loss: 0.2275\n",
      "Epoch 290/350\n",
      "1/1 [==============================] - 0s 3ms/step - loss: 0.2263\n",
      "Epoch 291/350\n",
      "1/1 [==============================] - 0s 5ms/step - loss: 0.2252\n",
      "Epoch 292/350\n",
      "1/1 [==============================] - 0s 3ms/step - loss: 0.2241\n",
      "Epoch 293/350\n",
      "1/1 [==============================] - 0s 3ms/step - loss: 0.2230\n",
      "Epoch 294/350\n",
      "1/1 [==============================] - 0s 4ms/step - loss: 0.2219\n",
      "Epoch 295/350\n",
      "1/1 [==============================] - 0s 3ms/step - loss: 0.2208\n",
      "Epoch 296/350\n",
      "1/1 [==============================] - 0s 3ms/step - loss: 0.2197\n",
      "Epoch 297/350\n",
      "1/1 [==============================] - 0s 3ms/step - loss: 0.2187\n",
      "Epoch 298/350\n",
      "1/1 [==============================] - 0s 3ms/step - loss: 0.2176\n",
      "Epoch 299/350\n",
      "1/1 [==============================] - 0s 4ms/step - loss: 0.2165\n",
      "Epoch 300/350\n",
      "1/1 [==============================] - 0s 4ms/step - loss: 0.2155\n",
      "Epoch 301/350\n",
      "1/1 [==============================] - 0s 3ms/step - loss: 0.2144\n",
      "Epoch 302/350\n",
      "1/1 [==============================] - 0s 4ms/step - loss: 0.2134\n",
      "Epoch 303/350\n",
      "1/1 [==============================] - 0s 4ms/step - loss: 0.2123\n",
      "Epoch 304/350\n",
      "1/1 [==============================] - 0s 3ms/step - loss: 0.2113\n",
      "Epoch 305/350\n",
      "1/1 [==============================] - 0s 3ms/step - loss: 0.2103\n",
      "Epoch 306/350\n",
      "1/1 [==============================] - 0s 5ms/step - loss: 0.2093\n",
      "Epoch 307/350\n",
      "1/1 [==============================] - 0s 4ms/step - loss: 0.2082\n",
      "Epoch 308/350\n",
      "1/1 [==============================] - 0s 4ms/step - loss: 0.2072\n",
      "Epoch 309/350\n",
      "1/1 [==============================] - 0s 4ms/step - loss: 0.2062\n",
      "Epoch 310/350\n",
      "1/1 [==============================] - 0s 4ms/step - loss: 0.2052\n",
      "Epoch 311/350\n",
      "1/1 [==============================] - 0s 5ms/step - loss: 0.2042\n",
      "Epoch 312/350\n",
      "1/1 [==============================] - 0s 4ms/step - loss: 0.2033\n",
      "Epoch 313/350\n",
      "1/1 [==============================] - 0s 3ms/step - loss: 0.2023\n",
      "Epoch 314/350\n",
      "1/1 [==============================] - 0s 4ms/step - loss: 0.2013\n",
      "Epoch 315/350\n",
      "1/1 [==============================] - 0s 3ms/step - loss: 0.2004\n",
      "Epoch 316/350\n",
      "1/1 [==============================] - 0s 3ms/step - loss: 0.1994\n",
      "Epoch 317/350\n",
      "1/1 [==============================] - 0s 5ms/step - loss: 0.1984\n",
      "Epoch 318/350\n",
      "1/1 [==============================] - 0s 4ms/step - loss: 0.1975\n",
      "Epoch 319/350\n",
      "1/1 [==============================] - 0s 4ms/step - loss: 0.1966\n",
      "Epoch 320/350\n",
      "1/1 [==============================] - 0s 5ms/step - loss: 0.1956\n",
      "Epoch 321/350\n",
      "1/1 [==============================] - 0s 6ms/step - loss: 0.1947\n",
      "Epoch 322/350\n",
      "1/1 [==============================] - 0s 6ms/step - loss: 0.1938\n",
      "Epoch 323/350\n",
      "1/1 [==============================] - 0s 5ms/step - loss: 0.1929\n",
      "Epoch 324/350\n",
      "1/1 [==============================] - 0s 6ms/step - loss: 0.1920\n",
      "Epoch 325/350\n",
      "1/1 [==============================] - 0s 5ms/step - loss: 0.1910\n",
      "Epoch 326/350\n",
      "1/1 [==============================] - 0s 4ms/step - loss: 0.1901\n",
      "Epoch 327/350\n",
      "1/1 [==============================] - 0s 6ms/step - loss: 0.1893\n",
      "Epoch 328/350\n",
      "1/1 [==============================] - 0s 5ms/step - loss: 0.1884\n",
      "Epoch 329/350\n",
      "1/1 [==============================] - 0s 5ms/step - loss: 0.1875\n",
      "Epoch 330/350\n",
      "1/1 [==============================] - 0s 4ms/step - loss: 0.1866\n",
      "Epoch 331/350\n",
      "1/1 [==============================] - 0s 4ms/step - loss: 0.1857\n",
      "Epoch 332/350\n",
      "1/1 [==============================] - 0s 5ms/step - loss: 0.1849\n",
      "Epoch 333/350\n",
      "1/1 [==============================] - 0s 4ms/step - loss: 0.1840\n",
      "Epoch 334/350\n",
      "1/1 [==============================] - 0s 5ms/step - loss: 0.1832\n",
      "Epoch 335/350\n",
      "1/1 [==============================] - 0s 5ms/step - loss: 0.1823\n",
      "Epoch 336/350\n",
      "1/1 [==============================] - 0s 10ms/step - loss: 0.1815\n",
      "Epoch 337/350\n",
      "1/1 [==============================] - 0s 5ms/step - loss: 0.1806\n",
      "Epoch 338/350\n",
      "1/1 [==============================] - 0s 5ms/step - loss: 0.1798\n",
      "Epoch 339/350\n",
      "1/1 [==============================] - 0s 4ms/step - loss: 0.1790\n",
      "Epoch 340/350\n",
      "1/1 [==============================] - 0s 4ms/step - loss: 0.1782\n",
      "Epoch 341/350\n",
      "1/1 [==============================] - 0s 4ms/step - loss: 0.1774\n",
      "Epoch 342/350\n",
      "1/1 [==============================] - 0s 5ms/step - loss: 0.1766\n",
      "Epoch 343/350\n",
      "1/1 [==============================] - 0s 4ms/step - loss: 0.1757\n",
      "Epoch 344/350\n",
      "1/1 [==============================] - 0s 4ms/step - loss: 0.1750\n",
      "Epoch 345/350\n",
      "1/1 [==============================] - 0s 5ms/step - loss: 0.1742\n",
      "Epoch 346/350\n",
      "1/1 [==============================] - 0s 4ms/step - loss: 0.1734\n",
      "Epoch 347/350\n",
      "1/1 [==============================] - 0s 4ms/step - loss: 0.1726\n",
      "Epoch 348/350\n",
      "1/1 [==============================] - 0s 4ms/step - loss: 0.1718\n",
      "Epoch 349/350\n",
      "1/1 [==============================] - 0s 4ms/step - loss: 0.1710\n",
      "Epoch 350/350\n",
      "1/1 [==============================] - 0s 4ms/step - loss: 0.1703\n"
     ]
    }
   ],
   "source": [
    "from tensorflow.keras.models import Sequential\n",
    "from tensorflow.keras.layers import Dense\n",
    "import tensorflow as tf\n",
    "\n",
    "model = Sequential()\n",
    "model.add(Dense(1, input_dim = 3, activation = 'linear'))\n",
    "model.compile(loss = 'mse', optimizer=tf.keras.optimizers.Adam(0.01))\n",
    "history = model.fit(x = dataset[: , 0:3], y = dataset[: , 3], epochs = 350)"
   ]
  },
  {
   "cell_type": "code",
   "execution_count": 7,
   "metadata": {},
   "outputs": [
    {
     "data": {
      "image/png": "[encoded data removed]",
      "text/plain": [
       "<Figure size 432x288 with 1 Axes>"
      ]
     },
     "metadata": {
      "needs_background": "light"
     },
     "output_type": "display_data"
    }
   ],
   "source": [
    "import matplotlib.pyplot as plt\n",
    "plt.plot(history.history['loss'])\n",
    "plt.title(\"Loss\")\n",
    "plt.show()"
   ]
  },
  {
   "cell_type": "code",
   "execution_count": 8,
   "metadata": {},
   "outputs": [
    {
     "name": "stdout",
     "output_type": "stream",
     "text": [
      "1/1 [==============================] - 0s 47ms/step\n"
     ]
    }
   ],
   "source": [
    "predictions = model.predict(dataset[:, 0:3])"
   ]
  },
  {
   "cell_type": "code",
   "execution_count": 9,
   "metadata": {},
   "outputs": [
    {
     "data": {
      "text/plain": [
       "array([[0.        , 0.        , 0.        , 1.        ],\n",
       "       [1.        , 1.        , 1.        , 0.        ],\n",
       "       [0.34509804, 0.84313725, 0.07843137, 0.        ],\n",
       "       [0.20784314, 0.45098039, 0.04705882, 1.        ],\n",
       "       [0.69411765, 0.86666667, 0.43137255, 0.        ],\n",
       "       [0.28627451, 0.36078431, 0.65490196, 1.        ],\n",
       "       [0.29803922, 0.78431373, 0.6627451 , 0.        ],\n",
       "       [0.1254902 , 0.57647059, 0.0627451 , 1.        ],\n",
       "       [0.61176471, 0.13333333, 0.70588235, 1.        ],\n",
       "       [0.83529412, 0.57254902, 0.89019608, 0.        ],\n",
       "       [0.84313725, 0.91764706, 0.68235294, 0.        ],\n",
       "       [0.8745098 , 0.34509804, 0.73333333, 1.        ],\n",
       "       [0.48235294, 0.13333333, 0.66666667, 1.        ],\n",
       "       [0.31764706, 0.76470588, 0.82352941, 0.        ],\n",
       "       [0.01568627, 0.60392157, 0.48627451, 1.        ],\n",
       "       [0.80784314, 0.78823529, 0.10980392, 0.        ],\n",
       "       [0.58431373, 0.57647059, 0.3372549 , 1.        ],\n",
       "       [1.        , 0.        , 0.        , 1.        ]])"
      ]
     },
     "execution_count": 9,
     "metadata": {},
     "output_type": "execute_result"
    }
   ],
   "source": [
    "dataset"
   ]
  },
  {
   "cell_type": "code",
   "execution_count": 10,
   "metadata": {},
   "outputs": [
    {
     "data": {
      "text/plain": [
       "array([1., 0., 0., 1., 0., 1., 0., 1., 1., 0., 0., 1., 1., 0., 1., 0., 1.,\n",
       "       1.])"
      ]
     },
     "execution_count": 10,
     "metadata": {},
     "output_type": "execute_result"
    }
   ],
   "source": [
    "true_text_colors = dataset[:, 3]\n",
    "true_text_colors"
   ]
  },
  {
   "cell_type": "code",
   "execution_count": 11,
   "metadata": {},
   "outputs": [
    {
     "name": "stdout",
     "output_type": "stream",
     "text": [
      "[1. 0. 0. 1. 0. 1. 0. 1. 1. 0. 0. 1. 1. 0. 1. 0. 1. 1.]\n"
     ]
    }
   ],
   "source": [
    "print(true_text_colors[:])"
   ]
  },
  {
   "cell_type": "code",
   "execution_count": 12,
   "metadata": {},
   "outputs": [
    {
     "name": "stdout",
     "output_type": "stream",
     "text": [
      "[[0.71910286 0.3069228  0.40590346 0.550658   0.37757578 0.56640893\n",
      "  0.41538253 0.50858444 0.63479    0.46691632 0.34870136 0.5498541\n",
      "  0.6401482  0.4180785  0.4931808  0.4086761  0.48656246 0.6844642 ]]\n"
     ]
    }
   ],
   "source": [
    "print(abs(predictions).T)"
   ]
  },
  {
   "cell_type": "code",
   "execution_count": 13,
   "metadata": {},
   "outputs": [],
   "source": [
    "diff = abs(true_text_colors - predictions.flatten())"
   ]
  },
  {
   "cell_type": "code",
   "execution_count": 14,
   "metadata": {},
   "outputs": [
    {
     "name": "stdout",
     "output_type": "stream",
     "text": [
      "[0.28089714 0.30692279 0.40590346 0.44934201 0.37757578 0.43359107\n",
      " 0.41538253 0.49141556 0.36521    0.46691632 0.34870136 0.4501459\n",
      " 0.35985178 0.41807851 0.50681919 0.40867609 0.51343754 0.31553578]\n"
     ]
    }
   ],
   "source": [
    "print(diff[:])"
   ]
  },
  {
   "cell_type": "code",
   "execution_count": 15,
   "metadata": {},
   "outputs": [
    {
     "data": {
      "image/png": "[encoded data removed]",
      "text/plain": [
       "<Figure size 432x288 with 1 Axes>"
      ]
     },
     "metadata": {
      "needs_background": "light"
     },
     "output_type": "display_data"
    }
   ],
   "source": [
    "#Compare the real data vs our prediction\n",
    "import matplotlib.pyplot as plt\n",
    "plt.scatter(true_text_colors, predictions)\n",
    "plt.xlabel('True Text Colors')\n",
    "plt.ylabel('Predicted Text Colors')\n",
    "plt.plot([0, 1], [0, 1], color='black')\n",
    "plt.show()"
   ]
  },
  {
   "cell_type": "code",
   "execution_count": 21,
   "metadata": {},
   "outputs": [
    {
     "name": "stdout",
     "output_type": "stream",
     "text": [
      "1/1 [==============================] - 0s 21ms/step\n"
     ]
    },
    {
     "data": {
      "text/plain": [
       "array([[0.34401742]], dtype=float32)"
      ]
     },
     "execution_count": 21,
     "metadata": {},
     "output_type": "execute_result"
    }
   ],
   "source": [
    "Background = (0, 1, 0.89)\n",
    "\n",
    "text_predict = abs((model.predict([Background])))\n",
    "text_predict # It should be (0, 0, 0) "
   ]
  },
  {
   "cell_type": "code",
   "execution_count": 22,
   "metadata": {},
   "outputs": [
    {
     "data": {
      "image/png": "[encoded data removed]",
      "text/plain": [
       "<Figure size 432x288 with 1 Axes>"
      ]
     },
     "metadata": {
      "needs_background": "light"
     },
     "output_type": "display_data"
    }
   ],
   "source": [
    "if text_predict[0][0] < 0.5: \n",
    "    text_predict[0][0] = 0\n",
    "else:\n",
    "    text_predict[0][0] = 1\n",
    "\n",
    "import matplotlib.pyplot as plt\n",
    "plt.title(\"Example 1\")\n",
    "plt.text(0.5, 0.5, \"Hello World\", size=50, rotation=0., color=(text_predict[0][0], text_predict[0][0], text_predict[0][0]),\n",
    "         ha=\"center\", va=\"center\",\n",
    "         bbox=dict(boxstyle=\"round\",\n",
    "                   ec=(1, 1, 1),\n",
    "                   fc=Background,\n",
    "                   )\n",
    "         )\n",
    "plt.show()"
   ]
  },
  {
   "cell_type": "code",
   "execution_count": 159,
   "metadata": {},
   "outputs": [
    {
     "name": "stdout",
     "output_type": "stream",
     "text": [
      "INFO:tensorflow:Assets written to: saved_model/model2\\assets\n"
     ]
    }
   ],
   "source": [
    "# Saving the model \n",
    "\n",
    "#model.save('saved_model/model2')"
   ]
  },
  {
   "cell_type": "code",
   "execution_count": 18,
   "metadata": {},
   "outputs": [
    {
     "name": "stdout",
     "output_type": "stream",
     "text": [
      "1/1 [==============================] - 0s 26ms/step\n"
     ]
    },
    {
     "data": {
      "image/png": "[encoded data removed]",
      "text/plain": [
       "<Figure size 72x72 with 1 Axes>"
      ]
     },
     "metadata": {
      "needs_background": "light"
     },
     "output_type": "display_data"
    },
    {
     "name": "stdout",
     "output_type": "stream",
     "text": [
      "1/1 [==============================] - 0s 24ms/step\n"
     ]
    },
    {
     "data": {
      "image/png": "[encoded data removed]",
      "text/plain": [
       "<Figure size 72x72 with 1 Axes>"
      ]
     },
     "metadata": {
      "needs_background": "light"
     },
     "output_type": "display_data"
    },
    {
     "name": "stdout",
     "output_type": "stream",
     "text": [
      "1/1 [==============================] - 0s 23ms/step\n"
     ]
    },
    {
     "data": {
      "image/png": "[encoded data removed]",
      "text/plain": [
       "<Figure size 72x72 with 1 Axes>"
      ]
     },
     "metadata": {
      "needs_background": "light"
     },
     "output_type": "display_data"
    },
    {
     "name": "stdout",
     "output_type": "stream",
     "text": [
      "1/1 [==============================] - 0s 23ms/step\n"
     ]
    },
    {
     "data": {
      "image/png": "[encoded data removed]",
      "text/plain": [
       "<Figure size 72x72 with 1 Axes>"
      ]
     },
     "metadata": {
      "needs_background": "light"
     },
     "output_type": "display_data"
    },
    {
     "name": "stdout",
     "output_type": "stream",
     "text": [
      "1/1 [==============================] - 0s 24ms/step\n"
     ]
    },
    {
     "data": {
      "image/png": "[encoded data removed]",
      "text/plain": [
       "<Figure size 72x72 with 1 Axes>"
      ]
     },
     "metadata": {
      "needs_background": "light"
     },
     "output_type": "display_data"
    },
    {
     "name": "stdout",
     "output_type": "stream",
     "text": [
      "1/1 [==============================] - 0s 24ms/step\n"
     ]
    },
    {
     "data": {
      "image/png": "[encoded data removed]",
      "text/plain": [
       "<Figure size 72x72 with 1 Axes>"
      ]
     },
     "metadata": {
      "needs_background": "light"
     },
     "output_type": "display_data"
    },
    {
     "name": "stdout",
     "output_type": "stream",
     "text": [
      "1/1 [==============================] - 0s 25ms/step\n"
     ]
    },
    {
     "data": {
      "image/png": "[encoded data removed]",
      "text/plain": [
       "<Figure size 72x72 with 1 Axes>"
      ]
     },
     "metadata": {
      "needs_background": "light"
     },
     "output_type": "display_data"
    },
    {
     "name": "stdout",
     "output_type": "stream",
     "text": [
      "1/1 [==============================] - 0s 24ms/step\n"
     ]
    },
    {
     "data": {
      "image/png": "[encoded data removed]",
      "text/plain": [
       "<Figure size 72x72 with 1 Axes>"
      ]
     },
     "metadata": {
      "needs_background": "light"
     },
     "output_type": "display_data"
    },
    {
     "name": "stdout",
     "output_type": "stream",
     "text": [
      "1/1 [==============================] - 0s 22ms/step\n"
     ]
    },
    {
     "data": {
      "image/png": "[encoded data removed]",
      "text/plain": [
       "<Figure size 72x72 with 1 Axes>"
      ]
     },
     "metadata": {
      "needs_background": "light"
     },
     "output_type": "display_data"
    },
    {
     "name": "stdout",
     "output_type": "stream",
     "text": [
      "1/1 [==============================] - 0s 30ms/step\n"
     ]
    },
    {
     "data": {
      "image/png": "[encoded data removed]",
      "text/plain": [
       "<Figure size 72x72 with 1 Axes>"
      ]
     },
     "metadata": {
      "needs_background": "light"
     },
     "output_type": "display_data"
    },
    {
     "name": "stdout",
     "output_type": "stream",
     "text": [
      "1/1 [==============================] - 0s 25ms/step\n"
     ]
    },
    {
     "data": {
      "image/png": "[encoded data removed]",
      "text/plain": [
       "<Figure size 72x72 with 1 Axes>"
      ]
     },
     "metadata": {
      "needs_background": "light"
     },
     "output_type": "display_data"
    },
    {
     "name": "stdout",
     "output_type": "stream",
     "text": [
      "1/1 [==============================] - 0s 25ms/step\n"
     ]
    },
    {
     "data": {
      "image/png": "[encoded data removed]",
      "text/plain": [
       "<Figure size 72x72 with 1 Axes>"
      ]
     },
     "metadata": {
      "needs_background": "light"
     },
     "output_type": "display_data"
    },
    {
     "name": "stdout",
     "output_type": "stream",
     "text": [
      "1/1 [==============================] - 0s 28ms/step\n"
     ]
    },
    {
     "data": {
      "image/png": "[encoded data removed]",
      "text/plain": [
       "<Figure size 72x72 with 1 Axes>"
      ]
     },
     "metadata": {
      "needs_background": "light"
     },
     "output_type": "display_data"
    },
    {
     "name": "stdout",
     "output_type": "stream",
     "text": [
      "1/1 [==============================] - 0s 26ms/step\n"
     ]
    },
    {
     "data": {
      "image/png": "[encoded data removed]",
      "text/plain": [
       "<Figure size 72x72 with 1 Axes>"
      ]
     },
     "metadata": {
      "needs_background": "light"
     },
     "output_type": "display_data"
    },
    {
     "name": "stdout",
     "output_type": "stream",
     "text": [
      "1/1 [==============================] - 0s 30ms/step\n"
     ]
    },
    {
     "data": {
      "image/png": "[encoded data removed]",
      "text/plain": [
       "<Figure size 72x72 with 1 Axes>"
      ]
     },
     "metadata": {
      "needs_background": "light"
     },
     "output_type": "display_data"
    },
    {
     "name": "stdout",
     "output_type": "stream",
     "text": [
      "1/1 [==============================] - 0s 26ms/step\n"
     ]
    },
    {
     "data": {
      "image/png": "[encoded data removed]",
      "text/plain": [
       "<Figure size 72x72 with 1 Axes>"
      ]
     },
     "metadata": {
      "needs_background": "light"
     },
     "output_type": "display_data"
    },
    {
     "name": "stdout",
     "output_type": "stream",
     "text": [
      "1/1 [==============================] - 0s 26ms/step\n"
     ]
    },
    {
     "data": {
      "image/png": "[encoded data removed]",
      "text/plain": [
       "<Figure size 72x72 with 1 Axes>"
      ]
     },
     "metadata": {
      "needs_background": "light"
     },
     "output_type": "display_data"
    },
    {
     "name": "stdout",
     "output_type": "stream",
     "text": [
      "1/1 [==============================] - 0s 24ms/step\n"
     ]
    },
    {
     "data": {
      "image/png": "[encoded data removed]",
      "text/plain": [
       "<Figure size 72x72 with 1 Axes>"
      ]
     },
     "metadata": {
      "needs_background": "light"
     },
     "output_type": "display_data"
    },
    {
     "name": "stdout",
     "output_type": "stream",
     "text": [
      "1/1 [==============================] - 0s 25ms/step\n"
     ]
    },
    {
     "data": {
      "image/png": "[encoded data removed]",
      "text/plain": [
       "<Figure size 72x72 with 1 Axes>"
      ]
     },
     "metadata": {
      "needs_background": "light"
     },
     "output_type": "display_data"
    },
    {
     "name": "stdout",
     "output_type": "stream",
     "text": [
      "1/1 [==============================] - 0s 23ms/step\n"
     ]
    },
    {
     "data": {
      "image/png": "[encoded data removed]",
      "text/plain": [
       "<Figure size 72x72 with 1 Axes>"
      ]
     },
     "metadata": {
      "needs_background": "light"
     },
     "output_type": "display_data"
    },
    {
     "name": "stdout",
     "output_type": "stream",
     "text": [
      "1/1 [==============================] - 0s 24ms/step\n"
     ]
    },
    {
     "data": {
      "image/png": "[encoded data removed]",
      "text/plain": [
       "<Figure size 72x72 with 1 Axes>"
      ]
     },
     "metadata": {
      "needs_background": "light"
     },
     "output_type": "display_data"
    },
    {
     "name": "stdout",
     "output_type": "stream",
     "text": [
      "1/1 [==============================] - 0s 26ms/step\n"
     ]
    },
    {
     "data": {
      "image/png": "[encoded data removed]",
      "text/plain": [
       "<Figure size 72x72 with 1 Axes>"
      ]
     },
     "metadata": {
      "needs_background": "light"
     },
     "output_type": "display_data"
    },
    {
     "name": "stdout",
     "output_type": "stream",
     "text": [
      "1/1 [==============================] - 0s 25ms/step\n"
     ]
    },
    {
     "data": {
      "image/png": "[encoded data removed]",
      "text/plain": [
       "<Figure size 72x72 with 1 Axes>"
      ]
     },
     "metadata": {
      "needs_background": "light"
     },
     "output_type": "display_data"
    },
    {
     "name": "stdout",
     "output_type": "stream",
     "text": [
      "1/1 [==============================] - 0s 31ms/step\n"
     ]
    },
    {
     "data": {
      "image/png": "[encoded data removed]",
      "text/plain": [
       "<Figure size 72x72 with 1 Axes>"
      ]
     },
     "metadata": {
      "needs_background": "light"
     },
     "output_type": "display_data"
    },
    {
     "name": "stdout",
     "output_type": "stream",
     "text": [
      "1/1 [==============================] - 0s 23ms/step\n"
     ]
    },
    {
     "data": {
      "image/png": "[encoded data removed]",
      "text/plain": [
       "<Figure size 72x72 with 1 Axes>"
      ]
     },
     "metadata": {
      "needs_background": "light"
     },
     "output_type": "display_data"
    },
    {
     "name": "stdout",
     "output_type": "stream",
     "text": [
      "1/1 [==============================] - 0s 25ms/step\n"
     ]
    },
    {
     "data": {
      "image/png": "[encoded data removed]",
      "text/plain": [
       "<Figure size 72x72 with 1 Axes>"
      ]
     },
     "metadata": {
      "needs_background": "light"
     },
     "output_type": "display_data"
    },
    {
     "name": "stdout",
     "output_type": "stream",
     "text": [
      "1/1 [==============================] - 0s 27ms/step\n"
     ]
    },
    {
     "data": {
      "image/png": "[encoded data removed]",
      "text/plain": [
       "<Figure size 72x72 with 1 Axes>"
      ]
     },
     "metadata": {
      "needs_background": "light"
     },
     "output_type": "display_data"
    },
    {
     "name": "stdout",
     "output_type": "stream",
     "text": [
      "1/1 [==============================] - 0s 25ms/step\n"
     ]
    },
    {
     "data": {
      "image/png": "[encoded data removed]",
      "text/plain": [
       "<Figure size 72x72 with 1 Axes>"
      ]
     },
     "metadata": {
      "needs_background": "light"
     },
     "output_type": "display_data"
    },
    {
     "name": "stdout",
     "output_type": "stream",
     "text": [
      "1/1 [==============================] - 0s 23ms/step\n"
     ]
    },
    {
     "data": {
      "image/png": "[encoded data removed]",
      "text/plain": [
       "<Figure size 72x72 with 1 Axes>"
      ]
     },
     "metadata": {
      "needs_background": "light"
     },
     "output_type": "display_data"
    },
    {
     "name": "stdout",
     "output_type": "stream",
     "text": [
      "1/1 [==============================] - 0s 28ms/step\n"
     ]
    },
    {
     "data": {
      "image/png": "[encoded data removed]",
      "text/plain": [
       "<Figure size 72x72 with 1 Axes>"
      ]
     },
     "metadata": {
      "needs_background": "light"
     },
     "output_type": "display_data"
    },
    {
     "name": "stdout",
     "output_type": "stream",
     "text": [
      "1/1 [==============================] - 0s 24ms/step\n"
     ]
    },
    {
     "data": {
      "image/png": "[encoded data removed]",
      "text/plain": [
       "<Figure size 72x72 with 1 Axes>"
      ]
     },
     "metadata": {
      "needs_background": "light"
     },
     "output_type": "display_data"
    },
    {
     "name": "stdout",
     "output_type": "stream",
     "text": [
      "1/1 [==============================] - 0s 22ms/step\n"
     ]
    },
    {
     "data": {
      "image/png": "[encoded data removed]",
      "text/plain": [
       "<Figure size 72x72 with 1 Axes>"
      ]
     },
     "metadata": {
      "needs_background": "light"
     },
     "output_type": "display_data"
    },
    {
     "name": "stdout",
     "output_type": "stream",
     "text": [
      "1/1 [==============================] - 0s 23ms/step\n"
     ]
    },
    {
     "data": {
      "image/png": "[encoded data removed]",
      "text/plain": [
       "<Figure size 72x72 with 1 Axes>"
      ]
     },
     "metadata": {
      "needs_background": "light"
     },
     "output_type": "display_data"
    },
    {
     "name": "stdout",
     "output_type": "stream",
     "text": [
      "1/1 [==============================] - 0s 24ms/step\n"
     ]
    },
    {
     "data": {
      "image/png": "[encoded data removed]",
      "text/plain": [
       "<Figure size 72x72 with 1 Axes>"
      ]
     },
     "metadata": {
      "needs_background": "light"
     },
     "output_type": "display_data"
    },
    {
     "name": "stdout",
     "output_type": "stream",
     "text": [
      "1/1 [==============================] - 0s 25ms/step\n"
     ]
    },
    {
     "data": {
      "image/png": "[encoded data removed]",
      "text/plain": [
       "<Figure size 72x72 with 1 Axes>"
      ]
     },
     "metadata": {
      "needs_background": "light"
     },
     "output_type": "display_data"
    },
    {
     "name": "stdout",
     "output_type": "stream",
     "text": [
      "1/1 [==============================] - 0s 23ms/step\n"
     ]
    },
    {
     "data": {
      "image/png": "[encoded data removed]",
      "text/plain": [
       "<Figure size 72x72 with 1 Axes>"
      ]
     },
     "metadata": {
      "needs_background": "light"
     },
     "output_type": "display_data"
    }
   ],
   "source": [
    "def new_color(val):\n",
    "    Background = (val, val, val)\n",
    "\n",
    "    text_predict = abs((model.predict([Background])))\n",
    "\n",
    "    if text_predict[0][0] < 0.5: \n",
    "        text_predict[0][0] = 0\n",
    "    else:\n",
    "        text_predict[0][0] = 1\n",
    "    return text_predict[0][0], Background\n",
    "\n",
    "\n",
    "val = 0\n",
    "\n",
    "for i in range(36):\n",
    "    colorT, Background = new_color(val/36)\n",
    "    plt.figure(figsize=(1,1))    \n",
    "    plt.title(\"Example: \" + str(i))\n",
    "    plt.text(0.5, 0.5, \"Hey\", size=50, rotation=0., color=(colorT, colorT, colorT),\n",
    "        ha=\"center\", va=\"center\",\n",
    "        bbox=dict(boxstyle=\"round\", ec=(1, 1, 1), fc=Background,))\n",
    "\n",
    "    plt.show()\n",
    "    val += 1\n"
   ]
  },
  {
   "cell_type": "code",
   "execution_count": null,
   "metadata": {},
   "outputs": [],
   "source": []
  }
 ],
 "metadata": {
  "interpreter": {
   "hash": "083b3d905a930963e78747a689489bf65fbcec15f366fbc7599c5176e3140817"
  },
  "kernelspec": {
   "display_name": "Python 3.9.10 64-bit",
   "language": "python",
   "name": "python3"
  },
  "language_info": {
   "codemirror_mode": {
    "name": "ipython",
    "version": 3
   },
   "file_extension": ".py",
   "mimetype": "text/x-python",
   "name": "python",
   "nbconvert_exporter": "python",
   "pygments_lexer": "ipython3",
   "version": "3.9.10"
  },
  "orig_nbformat": 4
 },
 "nbformat": 4,
 "nbformat_minor": 2
}
